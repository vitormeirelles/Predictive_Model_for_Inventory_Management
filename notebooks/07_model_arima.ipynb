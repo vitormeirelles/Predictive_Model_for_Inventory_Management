{
 "cells": [
  {
   "cell_type": "markdown",
   "id": "8920b4eb-acd8-46da-844d-8c7d78f3d41a",
   "metadata": {},
   "source": [
    "# Predictive Model for Stock Management"
   ]
  },
  {
   "cell_type": "markdown",
   "id": "a9a9bcf3-2526-4181-ab54-70fa7dcc4fca",
   "metadata": {
    "jp-MarkdownHeadingCollapsed": true
   },
   "source": [
    "## 0. Scope the Project"
   ]
  },
  {
   "cell_type": "markdown",
   "id": "7132149d-974a-45df-872f-25cac5d6cacf",
   "metadata": {},
   "source": [
    "Our plan is to use a predictive modeling technique to estimate the ideal weekly order quantity for each product **using historical sales data that reflects past demand patterns and trends.** The model will account for the average supplier lead time of 5 business days to ensure timely restocking.\n",
    "\n",
    "By anticipating demand more accurately, this initiative aims to **optimize stock levels, reduce excess inventory, and prevent stockouts—ultimately improving operational efficiency and financial performance.**"
   ]
  },
  {
   "cell_type": "code",
   "execution_count": 210,
   "id": "b0a57c6e-842b-4595-83f2-0e0d65c7a22a",
   "metadata": {
    "scrolled": true
   },
   "outputs": [
    {
     "name": "stdout",
     "output_type": "stream",
     "text": [
      "Requirement already satisfied: pmdarima in /opt/anaconda3/lib/python3.12/site-packages (2.0.4)\n",
      "Requirement already satisfied: joblib>=0.11 in /opt/anaconda3/lib/python3.12/site-packages (from pmdarima) (1.4.2)\n",
      "Requirement already satisfied: Cython!=0.29.18,!=0.29.31,>=0.29 in /opt/anaconda3/lib/python3.12/site-packages (from pmdarima) (3.1.1)\n",
      "Requirement already satisfied: numpy>=1.21.2 in /opt/anaconda3/lib/python3.12/site-packages (from pmdarima) (1.26.4)\n",
      "Requirement already satisfied: pandas>=0.19 in /opt/anaconda3/lib/python3.12/site-packages (from pmdarima) (2.2.2)\n",
      "Requirement already satisfied: scikit-learn>=0.22 in /opt/anaconda3/lib/python3.12/site-packages (from pmdarima) (1.4.2)\n",
      "Requirement already satisfied: scipy>=1.3.2 in /opt/anaconda3/lib/python3.12/site-packages (from pmdarima) (1.13.1)\n",
      "Requirement already satisfied: statsmodels>=0.13.2 in /opt/anaconda3/lib/python3.12/site-packages (from pmdarima) (0.14.2)\n",
      "Requirement already satisfied: urllib3 in /opt/anaconda3/lib/python3.12/site-packages (from pmdarima) (2.2.2)\n",
      "Requirement already satisfied: setuptools!=50.0.0,>=38.6.0 in /opt/anaconda3/lib/python3.12/site-packages (from pmdarima) (69.5.1)\n",
      "Requirement already satisfied: packaging>=17.1 in /opt/anaconda3/lib/python3.12/site-packages (from pmdarima) (23.2)\n",
      "Requirement already satisfied: python-dateutil>=2.8.2 in /opt/anaconda3/lib/python3.12/site-packages (from pandas>=0.19->pmdarima) (2.9.0.post0)\n",
      "Requirement already satisfied: pytz>=2020.1 in /opt/anaconda3/lib/python3.12/site-packages (from pandas>=0.19->pmdarima) (2024.1)\n",
      "Requirement already satisfied: tzdata>=2022.7 in /opt/anaconda3/lib/python3.12/site-packages (from pandas>=0.19->pmdarima) (2023.3)\n",
      "Requirement already satisfied: threadpoolctl>=2.0.0 in /opt/anaconda3/lib/python3.12/site-packages (from scikit-learn>=0.22->pmdarima) (2.2.0)\n",
      "Requirement already satisfied: patsy>=0.5.6 in /opt/anaconda3/lib/python3.12/site-packages (from statsmodels>=0.13.2->pmdarima) (0.5.6)\n",
      "Requirement already satisfied: six in /opt/anaconda3/lib/python3.12/site-packages (from patsy>=0.5.6->statsmodels>=0.13.2->pmdarima) (1.16.0)\n"
     ]
    }
   ],
   "source": [
    "!pip install pmdarima"
   ]
  },
  {
   "cell_type": "markdown",
   "id": "54701039-caf1-4f69-ac82-549bcfd9b219",
   "metadata": {
    "jp-MarkdownHeadingCollapsed": true
   },
   "source": [
    "## 1. Libraries"
   ]
  },
  {
   "cell_type": "code",
   "execution_count": 212,
   "id": "74b3873e-8d44-4617-a326-56d71ac038a9",
   "metadata": {},
   "outputs": [],
   "source": [
    "import pandas as pd\n",
    "import numpy as np\n",
    "import seaborn as sns\n",
    "import matplotlib.pyplot as plt \n",
    "from sklearn.linear_model import LinearRegression\n",
    "from statsmodels.tsa.arima.model import ARIMA\n",
    "from statsmodels.tsa.statespace.sarimax import SARIMAX\n",
    "from statsmodels.tsa.stattools import adfuller\n",
    "from pmdarima import auto_arima\n",
    "from sklearn.metrics import mean_absolute_error, r2_score\n",
    "from sklearn.metrics import mean_absolute_percentage_error\n",
    "from statsmodels.tsa.seasonal import seasonal_decompose\n",
    "from statsmodels.graphics.tsaplots import plot_pacf, plot_acf\n",
    "from sklearn.model_selection import TimeSeriesSplit\n",
    "\n",
    "import warnings # filters warning during the script\n",
    "warnings.filterwarnings(\"ignore\")"
   ]
  },
  {
   "cell_type": "markdown",
   "id": "8df8c649-1ff4-4d4e-8c1a-11f50abb64b5",
   "metadata": {
    "jp-MarkdownHeadingCollapsed": true
   },
   "source": [
    "## 2. Gather Data"
   ]
  },
  {
   "cell_type": "code",
   "execution_count": 214,
   "id": "fa77b612-3c1d-4ce6-9d5f-34addcc59f81",
   "metadata": {},
   "outputs": [
    {
     "data": {
      "text/html": [
       "<div>\n",
       "<style scoped>\n",
       "    .dataframe tbody tr th:only-of-type {\n",
       "        vertical-align: middle;\n",
       "    }\n",
       "\n",
       "    .dataframe tbody tr th {\n",
       "        vertical-align: top;\n",
       "    }\n",
       "\n",
       "    .dataframe thead th {\n",
       "        text-align: right;\n",
       "    }\n",
       "</style>\n",
       "<table border=\"1\" class=\"dataframe\">\n",
       "  <thead>\n",
       "    <tr style=\"text-align: right;\">\n",
       "      <th></th>\n",
       "      <th>store_id</th>\n",
       "      <th>storetype_id</th>\n",
       "      <th>store_size</th>\n",
       "      <th>city_id_old</th>\n",
       "      <th>country_id</th>\n",
       "      <th>city_code</th>\n",
       "    </tr>\n",
       "  </thead>\n",
       "  <tbody>\n",
       "    <tr>\n",
       "      <th>0</th>\n",
       "      <td>S0036</td>\n",
       "      <td>ST04</td>\n",
       "      <td>21</td>\n",
       "      <td>C001</td>\n",
       "      <td>TURKEY</td>\n",
       "      <td>Denizli</td>\n",
       "    </tr>\n",
       "    <tr>\n",
       "      <th>1</th>\n",
       "      <td>S0005</td>\n",
       "      <td>ST04</td>\n",
       "      <td>19</td>\n",
       "      <td>C001</td>\n",
       "      <td>TURKEY</td>\n",
       "      <td>Denizli</td>\n",
       "    </tr>\n",
       "    <tr>\n",
       "      <th>2</th>\n",
       "      <td>S0104</td>\n",
       "      <td>ST04</td>\n",
       "      <td>47</td>\n",
       "      <td>C002</td>\n",
       "      <td>TURKEY</td>\n",
       "      <td>Ankara</td>\n",
       "    </tr>\n",
       "    <tr>\n",
       "      <th>3</th>\n",
       "      <td>S0068</td>\n",
       "      <td>ST03</td>\n",
       "      <td>14</td>\n",
       "      <td>C003</td>\n",
       "      <td>TURKEY</td>\n",
       "      <td>?zmir</td>\n",
       "    </tr>\n",
       "    <tr>\n",
       "      <th>4</th>\n",
       "      <td>S0086</td>\n",
       "      <td>ST03</td>\n",
       "      <td>12</td>\n",
       "      <td>C003</td>\n",
       "      <td>TURKEY</td>\n",
       "      <td>?zmir</td>\n",
       "    </tr>\n",
       "  </tbody>\n",
       "</table>\n",
       "</div>"
      ],
      "text/plain": [
       "  store_id storetype_id  store_size city_id_old country_id city_code\n",
       "0    S0036         ST04          21        C001     TURKEY   Denizli\n",
       "1    S0005         ST04          19        C001     TURKEY   Denizli\n",
       "2    S0104         ST04          47        C002     TURKEY    Ankara\n",
       "3    S0068         ST03          14        C003     TURKEY     ?zmir\n",
       "4    S0086         ST03          12        C003     TURKEY     ?zmir"
      ]
     },
     "execution_count": 214,
     "metadata": {},
     "output_type": "execute_result"
    }
   ],
   "source": [
    "cities = pd.read_csv(\"../datasets/cities.csv\")\n",
    "cities.head()"
   ]
  },
  {
   "cell_type": "code",
   "execution_count": 215,
   "id": "4ae6e8aa-d044-4024-a8ec-ddc6142613c2",
   "metadata": {
    "scrolled": true
   },
   "outputs": [
    {
     "data": {
      "text/html": [
       "<div>\n",
       "<style scoped>\n",
       "    .dataframe tbody tr th:only-of-type {\n",
       "        vertical-align: middle;\n",
       "    }\n",
       "\n",
       "    .dataframe tbody tr th {\n",
       "        vertical-align: top;\n",
       "    }\n",
       "\n",
       "    .dataframe thead th {\n",
       "        text-align: right;\n",
       "    }\n",
       "</style>\n",
       "<table border=\"1\" class=\"dataframe\">\n",
       "  <thead>\n",
       "    <tr style=\"text-align: right;\">\n",
       "      <th></th>\n",
       "      <th>product_id</th>\n",
       "      <th>product_length</th>\n",
       "      <th>product_depth</th>\n",
       "      <th>product_width</th>\n",
       "      <th>cluster_id</th>\n",
       "      <th>hierarchy1_id</th>\n",
       "      <th>hierarchy2_id</th>\n",
       "      <th>hierarchy3_id</th>\n",
       "      <th>hierarchy4_id</th>\n",
       "      <th>hierarchy5_id</th>\n",
       "    </tr>\n",
       "  </thead>\n",
       "  <tbody>\n",
       "    <tr>\n",
       "      <th>0</th>\n",
       "      <td>P0000</td>\n",
       "      <td>5.0</td>\n",
       "      <td>20.0</td>\n",
       "      <td>12.0</td>\n",
       "      <td>NaN</td>\n",
       "      <td>H00</td>\n",
       "      <td>H0004</td>\n",
       "      <td>H000401</td>\n",
       "      <td>H00040105</td>\n",
       "      <td>H0004010534</td>\n",
       "    </tr>\n",
       "    <tr>\n",
       "      <th>1</th>\n",
       "      <td>P0001</td>\n",
       "      <td>13.5</td>\n",
       "      <td>22.0</td>\n",
       "      <td>20.0</td>\n",
       "      <td>cluster_5</td>\n",
       "      <td>H01</td>\n",
       "      <td>H0105</td>\n",
       "      <td>H010501</td>\n",
       "      <td>H01050100</td>\n",
       "      <td>H0105010006</td>\n",
       "    </tr>\n",
       "    <tr>\n",
       "      <th>2</th>\n",
       "      <td>P0002</td>\n",
       "      <td>22.0</td>\n",
       "      <td>40.0</td>\n",
       "      <td>22.0</td>\n",
       "      <td>cluster_0</td>\n",
       "      <td>H03</td>\n",
       "      <td>H0315</td>\n",
       "      <td>H031508</td>\n",
       "      <td>H03150800</td>\n",
       "      <td>H0315080028</td>\n",
       "    </tr>\n",
       "    <tr>\n",
       "      <th>3</th>\n",
       "      <td>P0004</td>\n",
       "      <td>2.0</td>\n",
       "      <td>13.0</td>\n",
       "      <td>4.0</td>\n",
       "      <td>cluster_3</td>\n",
       "      <td>H03</td>\n",
       "      <td>H0314</td>\n",
       "      <td>H031405</td>\n",
       "      <td>H03140500</td>\n",
       "      <td>H0314050003</td>\n",
       "    </tr>\n",
       "    <tr>\n",
       "      <th>4</th>\n",
       "      <td>P0005</td>\n",
       "      <td>16.0</td>\n",
       "      <td>30.0</td>\n",
       "      <td>16.0</td>\n",
       "      <td>cluster_9</td>\n",
       "      <td>H03</td>\n",
       "      <td>H0312</td>\n",
       "      <td>H031211</td>\n",
       "      <td>H03121109</td>\n",
       "      <td>H0312110917</td>\n",
       "    </tr>\n",
       "  </tbody>\n",
       "</table>\n",
       "</div>"
      ],
      "text/plain": [
       "  product_id  product_length  product_depth  product_width cluster_id  \\\n",
       "0      P0000             5.0           20.0           12.0        NaN   \n",
       "1      P0001            13.5           22.0           20.0  cluster_5   \n",
       "2      P0002            22.0           40.0           22.0  cluster_0   \n",
       "3      P0004             2.0           13.0            4.0  cluster_3   \n",
       "4      P0005            16.0           30.0           16.0  cluster_9   \n",
       "\n",
       "  hierarchy1_id hierarchy2_id hierarchy3_id hierarchy4_id hierarchy5_id  \n",
       "0           H00         H0004       H000401     H00040105   H0004010534  \n",
       "1           H01         H0105       H010501     H01050100   H0105010006  \n",
       "2           H03         H0315       H031508     H03150800   H0315080028  \n",
       "3           H03         H0314       H031405     H03140500   H0314050003  \n",
       "4           H03         H0312       H031211     H03121109   H0312110917  "
      ]
     },
     "execution_count": 215,
     "metadata": {},
     "output_type": "execute_result"
    }
   ],
   "source": [
    "product = pd.read_csv(\"../datasets/product.csv\")\n",
    "product.head()"
   ]
  },
  {
   "cell_type": "code",
   "execution_count": 216,
   "id": "0d2e0cc2-b05d-4ccc-9234-2f5f961a6c51",
   "metadata": {},
   "outputs": [
    {
     "data": {
      "text/plain": [
       "18"
      ]
     },
     "execution_count": 216,
     "metadata": {},
     "output_type": "execute_result"
    }
   ],
   "source": [
    "product[\"hierarchy2_id\"].nunique()"
   ]
  },
  {
   "cell_type": "code",
   "execution_count": 217,
   "id": "ebdf64f8-710a-4345-a90b-b8bb53b10f92",
   "metadata": {},
   "outputs": [
    {
     "data": {
      "text/html": [
       "<div>\n",
       "<style scoped>\n",
       "    .dataframe tbody tr th:only-of-type {\n",
       "        vertical-align: middle;\n",
       "    }\n",
       "\n",
       "    .dataframe tbody tr th {\n",
       "        vertical-align: top;\n",
       "    }\n",
       "\n",
       "    .dataframe thead th {\n",
       "        text-align: right;\n",
       "    }\n",
       "</style>\n",
       "<table border=\"1\" class=\"dataframe\">\n",
       "  <thead>\n",
       "    <tr style=\"text-align: right;\">\n",
       "      <th></th>\n",
       "      <th>Unnamed: 0</th>\n",
       "      <th>store_id</th>\n",
       "      <th>product_id</th>\n",
       "      <th>date</th>\n",
       "      <th>sales</th>\n",
       "      <th>revenue</th>\n",
       "      <th>stock</th>\n",
       "      <th>price</th>\n",
       "      <th>promo_type_1</th>\n",
       "      <th>promo_bin_1</th>\n",
       "      <th>promo_type_2</th>\n",
       "      <th>promo_bin_2</th>\n",
       "      <th>promo_discount_2</th>\n",
       "      <th>promo_discount_type_2</th>\n",
       "    </tr>\n",
       "  </thead>\n",
       "  <tbody>\n",
       "    <tr>\n",
       "      <th>0</th>\n",
       "      <td>1</td>\n",
       "      <td>S0002</td>\n",
       "      <td>P0001</td>\n",
       "      <td>2017-01-02</td>\n",
       "      <td>0.0</td>\n",
       "      <td>0.00</td>\n",
       "      <td>8.0</td>\n",
       "      <td>6.25</td>\n",
       "      <td>PR14</td>\n",
       "      <td>NaN</td>\n",
       "      <td>PR03</td>\n",
       "      <td>NaN</td>\n",
       "      <td>NaN</td>\n",
       "      <td>NaN</td>\n",
       "    </tr>\n",
       "    <tr>\n",
       "      <th>1</th>\n",
       "      <td>2</td>\n",
       "      <td>S0002</td>\n",
       "      <td>P0005</td>\n",
       "      <td>2017-01-02</td>\n",
       "      <td>0.0</td>\n",
       "      <td>0.00</td>\n",
       "      <td>11.0</td>\n",
       "      <td>33.90</td>\n",
       "      <td>PR14</td>\n",
       "      <td>NaN</td>\n",
       "      <td>PR03</td>\n",
       "      <td>NaN</td>\n",
       "      <td>NaN</td>\n",
       "      <td>NaN</td>\n",
       "    </tr>\n",
       "    <tr>\n",
       "      <th>2</th>\n",
       "      <td>3</td>\n",
       "      <td>S0002</td>\n",
       "      <td>P0011</td>\n",
       "      <td>2017-01-02</td>\n",
       "      <td>0.0</td>\n",
       "      <td>0.00</td>\n",
       "      <td>9.0</td>\n",
       "      <td>49.90</td>\n",
       "      <td>PR14</td>\n",
       "      <td>NaN</td>\n",
       "      <td>PR03</td>\n",
       "      <td>NaN</td>\n",
       "      <td>NaN</td>\n",
       "      <td>NaN</td>\n",
       "    </tr>\n",
       "    <tr>\n",
       "      <th>3</th>\n",
       "      <td>4</td>\n",
       "      <td>S0002</td>\n",
       "      <td>P0015</td>\n",
       "      <td>2017-01-02</td>\n",
       "      <td>1.0</td>\n",
       "      <td>2.41</td>\n",
       "      <td>19.0</td>\n",
       "      <td>2.60</td>\n",
       "      <td>PR14</td>\n",
       "      <td>NaN</td>\n",
       "      <td>PR03</td>\n",
       "      <td>NaN</td>\n",
       "      <td>NaN</td>\n",
       "      <td>NaN</td>\n",
       "    </tr>\n",
       "    <tr>\n",
       "      <th>4</th>\n",
       "      <td>5</td>\n",
       "      <td>S0002</td>\n",
       "      <td>P0017</td>\n",
       "      <td>2017-01-02</td>\n",
       "      <td>0.0</td>\n",
       "      <td>0.00</td>\n",
       "      <td>12.0</td>\n",
       "      <td>1.49</td>\n",
       "      <td>PR14</td>\n",
       "      <td>NaN</td>\n",
       "      <td>PR03</td>\n",
       "      <td>NaN</td>\n",
       "      <td>NaN</td>\n",
       "      <td>NaN</td>\n",
       "    </tr>\n",
       "  </tbody>\n",
       "</table>\n",
       "</div>"
      ],
      "text/plain": [
       "   Unnamed: 0 store_id product_id        date  sales  revenue  stock  price  \\\n",
       "0           1    S0002      P0001  2017-01-02    0.0     0.00    8.0   6.25   \n",
       "1           2    S0002      P0005  2017-01-02    0.0     0.00   11.0  33.90   \n",
       "2           3    S0002      P0011  2017-01-02    0.0     0.00    9.0  49.90   \n",
       "3           4    S0002      P0015  2017-01-02    1.0     2.41   19.0   2.60   \n",
       "4           5    S0002      P0017  2017-01-02    0.0     0.00   12.0   1.49   \n",
       "\n",
       "  promo_type_1 promo_bin_1 promo_type_2 promo_bin_2  promo_discount_2  \\\n",
       "0         PR14         NaN         PR03         NaN               NaN   \n",
       "1         PR14         NaN         PR03         NaN               NaN   \n",
       "2         PR14         NaN         PR03         NaN               NaN   \n",
       "3         PR14         NaN         PR03         NaN               NaN   \n",
       "4         PR14         NaN         PR03         NaN               NaN   \n",
       "\n",
       "  promo_discount_type_2  \n",
       "0                   NaN  \n",
       "1                   NaN  \n",
       "2                   NaN  \n",
       "3                   NaN  \n",
       "4                   NaN  "
      ]
     },
     "execution_count": 217,
     "metadata": {},
     "output_type": "execute_result"
    }
   ],
   "source": [
    "sales = pd.read_csv(\"../datasets/sales.csv\")\n",
    "sales.head()"
   ]
  },
  {
   "cell_type": "code",
   "execution_count": 218,
   "id": "6d6735bf-4968-48ae-a21a-a1e484d15cd2",
   "metadata": {},
   "outputs": [],
   "source": [
    "#sales.shape"
   ]
  },
  {
   "cell_type": "code",
   "execution_count": 219,
   "id": "61b20709-53eb-4f87-b364-5979ad88b7db",
   "metadata": {},
   "outputs": [],
   "source": [
    "#sales.info()"
   ]
  },
  {
   "cell_type": "markdown",
   "id": "667465cb-2761-4120-b405-69c66c3e0770",
   "metadata": {
    "jp-MarkdownHeadingCollapsed": true
   },
   "source": [
    "## 3. Clean Data"
   ]
  },
  {
   "cell_type": "markdown",
   "id": "85fb2569-2b53-4cf1-98bf-c8d43b592ba5",
   "metadata": {
    "jp-MarkdownHeadingCollapsed": true
   },
   "source": [
    "### a.Convert Data Types"
   ]
  },
  {
   "cell_type": "code",
   "execution_count": 222,
   "id": "59fa9acd-8d4c-47e1-84ce-4fab4f3cbd42",
   "metadata": {},
   "outputs": [],
   "source": [
    "#Changing datetypes\n",
    "sales.date = pd.to_datetime(sales.date)"
   ]
  },
  {
   "cell_type": "markdown",
   "id": "70d968f9-253c-410f-900d-0d52e2fbceaa",
   "metadata": {
    "jp-MarkdownHeadingCollapsed": true
   },
   "source": [
    "### b. Removing Columns"
   ]
  },
  {
   "cell_type": "code",
   "execution_count": 224,
   "id": "6ee24dcd-4df0-4710-a334-ce58ece698bd",
   "metadata": {},
   "outputs": [],
   "source": [
    "#Remove \"Unnamed: 0 column\"\n",
    "sales = sales.drop(\"Unnamed: 0\", axis=1)"
   ]
  },
  {
   "cell_type": "markdown",
   "id": "6227e8f4-d599-4d85-8901-28774c084d58",
   "metadata": {
    "jp-MarkdownHeadingCollapsed": true
   },
   "source": [
    "### c. Resolve Data Issues"
   ]
  },
  {
   "cell_type": "markdown",
   "id": "e193fce2-08bc-470d-aa0b-7ffbf25c492c",
   "metadata": {
    "jp-MarkdownHeadingCollapsed": true
   },
   "source": [
    "#### i. Missing Data"
   ]
  },
  {
   "cell_type": "code",
   "execution_count": 227,
   "id": "675e1603-52e9-4bff-a8b9-4a17f89ea3ef",
   "metadata": {},
   "outputs": [
    {
     "data": {
      "text/plain": [
       "store_id                       0\n",
       "product_id                     0\n",
       "date                           0\n",
       "sales                     302296\n",
       "revenue                   302296\n",
       "stock                     302296\n",
       "price                      91381\n",
       "promo_type_1                   0\n",
       "promo_bin_1              7653515\n",
       "promo_type_2                   0\n",
       "promo_bin_2              8873337\n",
       "promo_discount_2         8873337\n",
       "promo_discount_type_2    8873337\n",
       "dtype: int64"
      ]
     },
     "execution_count": 227,
     "metadata": {},
     "output_type": "execute_result"
    }
   ],
   "source": [
    "#Find NaN values in the data - sales, revenue, stock, price, promo_bin_1, promo_bin_2, promo_discont_2\n",
    "sales.isna().sum()"
   ]
  },
  {
   "cell_type": "code",
   "execution_count": 228,
   "id": "ec4beef4-e2a7-4a1c-a6da-ef4f7047bcde",
   "metadata": {
    "scrolled": true
   },
   "outputs": [
    {
     "data": {
      "text/plain": [
       "product_id         0\n",
       "product_length    18\n",
       "product_depth     16\n",
       "product_width     16\n",
       "cluster_id        50\n",
       "hierarchy1_id      0\n",
       "hierarchy2_id      0\n",
       "hierarchy3_id      0\n",
       "hierarchy4_id      0\n",
       "hierarchy5_id      0\n",
       "dtype: int64"
      ]
     },
     "execution_count": 228,
     "metadata": {},
     "output_type": "execute_result"
    }
   ],
   "source": [
    "#Find NaN values in the data - product length, product_depth, product_width, cluster_id\n",
    "product.isna().sum()"
   ]
  },
  {
   "cell_type": "code",
   "execution_count": 229,
   "id": "152fd657-cb2d-4409-b945-eed32a8b299a",
   "metadata": {},
   "outputs": [
    {
     "data": {
      "text/plain": [
       "store_id        0\n",
       "storetype_id    0\n",
       "store_size      0\n",
       "city_id_old     0\n",
       "country_id      0\n",
       "city_code       0\n",
       "dtype: int64"
      ]
     },
     "execution_count": 229,
     "metadata": {},
     "output_type": "execute_result"
    }
   ],
   "source": [
    "#No missing values\n",
    "cities.isna().sum()"
   ]
  },
  {
   "cell_type": "code",
   "execution_count": 230,
   "id": "d9c38d93-a65b-4846-9f4e-d633132336d0",
   "metadata": {},
   "outputs": [],
   "source": [
    "# Fill sales, revenue, stock NaN values = 0\n",
    "# Fill promo tables NaN's values with 0\n",
    "\n",
    "#sales[[\"sales\", \"revenue\", \"stock\"]] = sales[[\"sales\", \"revenue\", \"stock\"]].fillna(0)\n",
    "#sales[[\"promo_bin_1\", \"promo_bin_2\", \"promo_discount_2\", \"promo_discount_type_2\"]] = sales[[\"promo_bin_1\", \"promo_bin_2\", \"promo_discount_2\", \"promo_discount_type_2\"]].fillna(0)"
   ]
  },
  {
   "cell_type": "code",
   "execution_count": 231,
   "id": "2aa7e4af-9e27-4493-9854-46d3726e034e",
   "metadata": {},
   "outputs": [],
   "source": [
    "# Product Table\n",
    "## Fill cluster_id NaN with cluster_0\n",
    "#product[\"cluster_id\"] = np.where(product.cluster_id.isna(), \"cluster_0\", product.cluster_id)\n",
    "#product.cluster_id.value_counts(dropna=False)"
   ]
  },
  {
   "cell_type": "code",
   "execution_count": 232,
   "id": "f26b4690-e0f6-455d-a27f-40a9d1ff1baa",
   "metadata": {},
   "outputs": [],
   "source": [
    "## This will fill the missing values in the product_length, product_depth, and product_width columns \n",
    "## based on the mean for each specific cluster_id\n",
    "#for col in [\"product_length\", \"product_depth\", \"product_width\"]:\n",
    "    \n",
    "#    for cluster in product['cluster_id'].unique():\n",
    "#        mean_value = product[product['cluster_id'] == cluster][col].mean()\n",
    "        \n",
    "#        product.loc[product['cluster_id'] == cluster, col] = product.loc[product['cluster_id'] == cluster, col].fillna(mean_value)\n"
   ]
  },
  {
   "cell_type": "markdown",
   "id": "6ffd46d0-3303-4025-962f-db59abd3871b",
   "metadata": {
    "jp-MarkdownHeadingCollapsed": true
   },
   "source": [
    "#### ii. Inconsistent Text & Typos"
   ]
  },
  {
   "cell_type": "code",
   "execution_count": 234,
   "id": "89cff0f4-2036-4533-b5a8-cefeb3fcb9f0",
   "metadata": {},
   "outputs": [
    {
     "data": {
      "text/plain": [
       "city_code\n",
       "Istanbul         32\n",
       "Antalya           5\n",
       "Sanliurfa         3\n",
       "Konya             3\n",
       "Denizli           2\n",
       "Kahramanmaras     2\n",
       "Samsun            2\n",
       "Van               2\n",
       "Izmir             2\n",
       "Gaziantep         1\n",
       "Ankara            1\n",
       "Diyarbakir        1\n",
       "Kayseri           1\n",
       "Adana             1\n",
       "Bursa             1\n",
       "Eskisehir         1\n",
       "Adapazari         1\n",
       "Erzurum           1\n",
       "Mersin            1\n",
       "Name: count, dtype: int64"
      ]
     },
     "execution_count": 234,
     "metadata": {},
     "output_type": "execute_result"
    }
   ],
   "source": [
    "#Correct city_code typos\n",
    "replacements = {\n",
    "    \"?zmir\": \"Izmir\",\n",
    "    \"Sanl?urfa\": \"Sanliurfa\",\n",
    "    \"Diyarbak?r\": \"Diyarbakir\",\n",
    "    \"Eski?ehir\": \"Eskisehir\",\n",
    "    \"Adapazar?\": \"Adapazari\"\n",
    "}\n",
    "\n",
    "cities[\"city_code\"] = cities.city_code.replace(replacements)\n",
    "cities.city_code.value_counts()"
   ]
  },
  {
   "cell_type": "markdown",
   "id": "017aa7ea-dccc-4b74-8f07-2dace1bfbe3f",
   "metadata": {
    "jp-MarkdownHeadingCollapsed": true
   },
   "source": [
    "#### iii. Duplicate Rows"
   ]
  },
  {
   "cell_type": "code",
   "execution_count": 236,
   "id": "e834cfb3-cd2d-4ad3-8447-5940beeb3969",
   "metadata": {},
   "outputs": [],
   "source": [
    "# There seem to be no duplicated rows"
   ]
  },
  {
   "cell_type": "code",
   "execution_count": 237,
   "id": "3c76abb9-51e6-481b-9702-27aae6eb3fc4",
   "metadata": {},
   "outputs": [
    {
     "data": {
      "text/html": [
       "<div>\n",
       "<style scoped>\n",
       "    .dataframe tbody tr th:only-of-type {\n",
       "        vertical-align: middle;\n",
       "    }\n",
       "\n",
       "    .dataframe tbody tr th {\n",
       "        vertical-align: top;\n",
       "    }\n",
       "\n",
       "    .dataframe thead th {\n",
       "        text-align: right;\n",
       "    }\n",
       "</style>\n",
       "<table border=\"1\" class=\"dataframe\">\n",
       "  <thead>\n",
       "    <tr style=\"text-align: right;\">\n",
       "      <th></th>\n",
       "      <th>store_id</th>\n",
       "      <th>product_id</th>\n",
       "      <th>date</th>\n",
       "      <th>sales</th>\n",
       "      <th>revenue</th>\n",
       "      <th>stock</th>\n",
       "      <th>price</th>\n",
       "      <th>promo_type_1</th>\n",
       "      <th>promo_bin_1</th>\n",
       "      <th>promo_type_2</th>\n",
       "      <th>promo_bin_2</th>\n",
       "      <th>promo_discount_2</th>\n",
       "      <th>promo_discount_type_2</th>\n",
       "    </tr>\n",
       "  </thead>\n",
       "  <tbody>\n",
       "  </tbody>\n",
       "</table>\n",
       "</div>"
      ],
      "text/plain": [
       "Empty DataFrame\n",
       "Columns: [store_id, product_id, date, sales, revenue, stock, price, promo_type_1, promo_bin_1, promo_type_2, promo_bin_2, promo_discount_2, promo_discount_type_2]\n",
       "Index: []"
      ]
     },
     "execution_count": 237,
     "metadata": {},
     "output_type": "execute_result"
    }
   ],
   "source": [
    "sales[sales.duplicated()]"
   ]
  },
  {
   "cell_type": "code",
   "execution_count": 238,
   "id": "80b8efbd-238a-4f18-842a-9007d4833e26",
   "metadata": {},
   "outputs": [
    {
     "data": {
      "text/html": [
       "<div>\n",
       "<style scoped>\n",
       "    .dataframe tbody tr th:only-of-type {\n",
       "        vertical-align: middle;\n",
       "    }\n",
       "\n",
       "    .dataframe tbody tr th {\n",
       "        vertical-align: top;\n",
       "    }\n",
       "\n",
       "    .dataframe thead th {\n",
       "        text-align: right;\n",
       "    }\n",
       "</style>\n",
       "<table border=\"1\" class=\"dataframe\">\n",
       "  <thead>\n",
       "    <tr style=\"text-align: right;\">\n",
       "      <th></th>\n",
       "      <th>product_id</th>\n",
       "      <th>product_length</th>\n",
       "      <th>product_depth</th>\n",
       "      <th>product_width</th>\n",
       "      <th>cluster_id</th>\n",
       "      <th>hierarchy1_id</th>\n",
       "      <th>hierarchy2_id</th>\n",
       "      <th>hierarchy3_id</th>\n",
       "      <th>hierarchy4_id</th>\n",
       "      <th>hierarchy5_id</th>\n",
       "    </tr>\n",
       "  </thead>\n",
       "  <tbody>\n",
       "  </tbody>\n",
       "</table>\n",
       "</div>"
      ],
      "text/plain": [
       "Empty DataFrame\n",
       "Columns: [product_id, product_length, product_depth, product_width, cluster_id, hierarchy1_id, hierarchy2_id, hierarchy3_id, hierarchy4_id, hierarchy5_id]\n",
       "Index: []"
      ]
     },
     "execution_count": 238,
     "metadata": {},
     "output_type": "execute_result"
    }
   ],
   "source": [
    "product[product.duplicated()]"
   ]
  },
  {
   "cell_type": "code",
   "execution_count": 239,
   "id": "16be9b2c-0156-41c6-b9d5-7233de35673c",
   "metadata": {},
   "outputs": [
    {
     "data": {
      "text/html": [
       "<div>\n",
       "<style scoped>\n",
       "    .dataframe tbody tr th:only-of-type {\n",
       "        vertical-align: middle;\n",
       "    }\n",
       "\n",
       "    .dataframe tbody tr th {\n",
       "        vertical-align: top;\n",
       "    }\n",
       "\n",
       "    .dataframe thead th {\n",
       "        text-align: right;\n",
       "    }\n",
       "</style>\n",
       "<table border=\"1\" class=\"dataframe\">\n",
       "  <thead>\n",
       "    <tr style=\"text-align: right;\">\n",
       "      <th></th>\n",
       "      <th>store_id</th>\n",
       "      <th>storetype_id</th>\n",
       "      <th>store_size</th>\n",
       "      <th>city_id_old</th>\n",
       "      <th>country_id</th>\n",
       "      <th>city_code</th>\n",
       "    </tr>\n",
       "  </thead>\n",
       "  <tbody>\n",
       "  </tbody>\n",
       "</table>\n",
       "</div>"
      ],
      "text/plain": [
       "Empty DataFrame\n",
       "Columns: [store_id, storetype_id, store_size, city_id_old, country_id, city_code]\n",
       "Index: []"
      ]
     },
     "execution_count": 239,
     "metadata": {},
     "output_type": "execute_result"
    }
   ],
   "source": [
    "cities[cities.duplicated()]"
   ]
  },
  {
   "cell_type": "markdown",
   "id": "04e2fb08-a211-4ba0-b92c-eacc87ba3f40",
   "metadata": {
    "jp-MarkdownHeadingCollapsed": true
   },
   "source": [
    "#### iv. Outliers"
   ]
  },
  {
   "cell_type": "markdown",
   "id": "1d29d7df-3130-4d54-b810-6339bb11b807",
   "metadata": {
    "jp-MarkdownHeadingCollapsed": true
   },
   "source": [
    "### c. Create New Columns"
   ]
  },
  {
   "cell_type": "code",
   "execution_count": 242,
   "id": "23ba96a1-f289-4056-b6e1-a59a30f099d2",
   "metadata": {
    "scrolled": true
   },
   "outputs": [
    {
     "data": {
      "text/html": [
       "<div>\n",
       "<style scoped>\n",
       "    .dataframe tbody tr th:only-of-type {\n",
       "        vertical-align: middle;\n",
       "    }\n",
       "\n",
       "    .dataframe tbody tr th {\n",
       "        vertical-align: top;\n",
       "    }\n",
       "\n",
       "    .dataframe thead th {\n",
       "        text-align: right;\n",
       "    }\n",
       "</style>\n",
       "<table border=\"1\" class=\"dataframe\">\n",
       "  <thead>\n",
       "    <tr style=\"text-align: right;\">\n",
       "      <th></th>\n",
       "      <th>store_id</th>\n",
       "      <th>product_id</th>\n",
       "      <th>date</th>\n",
       "      <th>sales</th>\n",
       "      <th>revenue</th>\n",
       "      <th>stock</th>\n",
       "      <th>price</th>\n",
       "      <th>promo_type_1</th>\n",
       "      <th>promo_bin_1</th>\n",
       "      <th>promo_type_2</th>\n",
       "      <th>promo_bin_2</th>\n",
       "      <th>promo_discount_2</th>\n",
       "      <th>promo_discount_type_2</th>\n",
       "      <th>week</th>\n",
       "    </tr>\n",
       "  </thead>\n",
       "  <tbody>\n",
       "    <tr>\n",
       "      <th>0</th>\n",
       "      <td>S0002</td>\n",
       "      <td>P0001</td>\n",
       "      <td>2017-01-02</td>\n",
       "      <td>0.0</td>\n",
       "      <td>0.00</td>\n",
       "      <td>8.0</td>\n",
       "      <td>6.25</td>\n",
       "      <td>PR14</td>\n",
       "      <td>NaN</td>\n",
       "      <td>PR03</td>\n",
       "      <td>NaN</td>\n",
       "      <td>NaN</td>\n",
       "      <td>NaN</td>\n",
       "      <td>2017-01-02</td>\n",
       "    </tr>\n",
       "    <tr>\n",
       "      <th>1</th>\n",
       "      <td>S0002</td>\n",
       "      <td>P0005</td>\n",
       "      <td>2017-01-02</td>\n",
       "      <td>0.0</td>\n",
       "      <td>0.00</td>\n",
       "      <td>11.0</td>\n",
       "      <td>33.90</td>\n",
       "      <td>PR14</td>\n",
       "      <td>NaN</td>\n",
       "      <td>PR03</td>\n",
       "      <td>NaN</td>\n",
       "      <td>NaN</td>\n",
       "      <td>NaN</td>\n",
       "      <td>2017-01-02</td>\n",
       "    </tr>\n",
       "    <tr>\n",
       "      <th>2</th>\n",
       "      <td>S0002</td>\n",
       "      <td>P0011</td>\n",
       "      <td>2017-01-02</td>\n",
       "      <td>0.0</td>\n",
       "      <td>0.00</td>\n",
       "      <td>9.0</td>\n",
       "      <td>49.90</td>\n",
       "      <td>PR14</td>\n",
       "      <td>NaN</td>\n",
       "      <td>PR03</td>\n",
       "      <td>NaN</td>\n",
       "      <td>NaN</td>\n",
       "      <td>NaN</td>\n",
       "      <td>2017-01-02</td>\n",
       "    </tr>\n",
       "    <tr>\n",
       "      <th>3</th>\n",
       "      <td>S0002</td>\n",
       "      <td>P0015</td>\n",
       "      <td>2017-01-02</td>\n",
       "      <td>1.0</td>\n",
       "      <td>2.41</td>\n",
       "      <td>19.0</td>\n",
       "      <td>2.60</td>\n",
       "      <td>PR14</td>\n",
       "      <td>NaN</td>\n",
       "      <td>PR03</td>\n",
       "      <td>NaN</td>\n",
       "      <td>NaN</td>\n",
       "      <td>NaN</td>\n",
       "      <td>2017-01-02</td>\n",
       "    </tr>\n",
       "    <tr>\n",
       "      <th>4</th>\n",
       "      <td>S0002</td>\n",
       "      <td>P0017</td>\n",
       "      <td>2017-01-02</td>\n",
       "      <td>0.0</td>\n",
       "      <td>0.00</td>\n",
       "      <td>12.0</td>\n",
       "      <td>1.49</td>\n",
       "      <td>PR14</td>\n",
       "      <td>NaN</td>\n",
       "      <td>PR03</td>\n",
       "      <td>NaN</td>\n",
       "      <td>NaN</td>\n",
       "      <td>NaN</td>\n",
       "      <td>2017-01-02</td>\n",
       "    </tr>\n",
       "  </tbody>\n",
       "</table>\n",
       "</div>"
      ],
      "text/plain": [
       "  store_id product_id       date  sales  revenue  stock  price promo_type_1  \\\n",
       "0    S0002      P0001 2017-01-02    0.0     0.00    8.0   6.25         PR14   \n",
       "1    S0002      P0005 2017-01-02    0.0     0.00   11.0  33.90         PR14   \n",
       "2    S0002      P0011 2017-01-02    0.0     0.00    9.0  49.90         PR14   \n",
       "3    S0002      P0015 2017-01-02    1.0     2.41   19.0   2.60         PR14   \n",
       "4    S0002      P0017 2017-01-02    0.0     0.00   12.0   1.49         PR14   \n",
       "\n",
       "  promo_bin_1 promo_type_2 promo_bin_2  promo_discount_2  \\\n",
       "0         NaN         PR03         NaN               NaN   \n",
       "1         NaN         PR03         NaN               NaN   \n",
       "2         NaN         PR03         NaN               NaN   \n",
       "3         NaN         PR03         NaN               NaN   \n",
       "4         NaN         PR03         NaN               NaN   \n",
       "\n",
       "  promo_discount_type_2       week  \n",
       "0                   NaN 2017-01-02  \n",
       "1                   NaN 2017-01-02  \n",
       "2                   NaN 2017-01-02  \n",
       "3                   NaN 2017-01-02  \n",
       "4                   NaN 2017-01-02  "
      ]
     },
     "execution_count": 242,
     "metadata": {},
     "output_type": "execute_result"
    }
   ],
   "source": [
    "# Week column\n",
    "sales[\"week\"] = sales.date.dt.to_period(\"W\").apply(lambda r: r.start_time)\n",
    "sales.head()"
   ]
  },
  {
   "cell_type": "code",
   "execution_count": null,
   "id": "95f0dd49-3a50-4e98-be03-2239622566a2",
   "metadata": {},
   "outputs": [],
   "source": []
  },
  {
   "cell_type": "markdown",
   "id": "77030f93-da54-44c3-8234-97605f05bccc",
   "metadata": {
    "jp-MarkdownHeadingCollapsed": true
   },
   "source": [
    "## 4. EDA"
   ]
  },
  {
   "cell_type": "code",
   "execution_count": 244,
   "id": "365c01f2-ea82-4044-8b4e-c581247102e0",
   "metadata": {},
   "outputs": [],
   "source": [
    "# Weekly_sales Df creation\n",
    "weekly_sales = (sales.groupby([\"store_id\", \"product_id\", \"week\"])\n",
    "    .agg({\n",
    "        \"sales\": \"sum\",\n",
    "        \"revenue\": \"sum\",\n",
    "        \"stock\": \"mean\",\n",
    "        \"price\": \"mean\",\n",
    "#        \"promo_bin_1\": lambda x: 0 if (x == 0).all() else 1, # use if there's no NaN's\n",
    "#        \"promo_bin_2\": lambda x: 0 if (x == 0).all() else 1  # use if there's no NaN's\n",
    "        'promo_bin_1': lambda x: 1 if x.notna().any() else 0,\n",
    "        'promo_bin_2': lambda x: 1 if x.notna().any() else 0\n",
    "    })\n",
    " .reset_index())"
   ]
  },
  {
   "cell_type": "code",
   "execution_count": 245,
   "id": "33513ba5-8916-4291-a1c6-b03bd87f5618",
   "metadata": {},
   "outputs": [],
   "source": [
    "# Merged weekly_sales, product and cities - full_df \n",
    "full_df = (weekly_sales\n",
    "           .merge(product, how=\"left\", on=\"product_id\")\n",
    "           .merge(cities, how=\"left\", on=\"store_id\")\n",
    "          )"
   ]
  },
  {
   "cell_type": "markdown",
   "id": "af403428-29ba-417f-a2e2-1cc608c2fa09",
   "metadata": {
    "jp-MarkdownHeadingCollapsed": true
   },
   "source": [
    "## 5. Prep for Modeling"
   ]
  },
  {
   "cell_type": "markdown",
   "id": "791539df-5f45-46c1-9225-387ba6591b5c",
   "metadata": {},
   "source": [
    "## 6. Model - ARIMA"
   ]
  },
  {
   "cell_type": "markdown",
   "id": "b872466c-5a12-40f5-968a-e47f24e799b9",
   "metadata": {
    "jp-MarkdownHeadingCollapsed": true
   },
   "source": [
    "### Generating Tables"
   ]
  },
  {
   "cell_type": "code",
   "execution_count": 249,
   "id": "4c54a68e-a21c-45c8-a18b-098148a9391b",
   "metadata": {
    "scrolled": true
   },
   "outputs": [
    {
     "name": "stdout",
     "output_type": "stream",
     "text": [
      "<class 'pandas.core.frame.DataFrame'>\n",
      "RangeIndex: 1308210 entries, 0 to 1308209\n",
      "Data columns (total 23 columns):\n",
      " #   Column          Non-Null Count    Dtype         \n",
      "---  ------          --------------    -----         \n",
      " 0   store_id        1308210 non-null  object        \n",
      " 1   product_id      1308210 non-null  object        \n",
      " 2   week            1308210 non-null  datetime64[ns]\n",
      " 3   sales           1308210 non-null  float64       \n",
      " 4   revenue         1308210 non-null  float64       \n",
      " 5   stock           1267789 non-null  float64       \n",
      " 6   price           1293928 non-null  float64       \n",
      " 7   promo_bin_1     1308210 non-null  int64         \n",
      " 8   promo_bin_2     1308210 non-null  int64         \n",
      " 9   product_length  1302350 non-null  float64       \n",
      " 10  product_depth   1302675 non-null  float64       \n",
      " 11  product_width   1302675 non-null  float64       \n",
      " 12  cluster_id      1308210 non-null  object        \n",
      " 13  hierarchy1_id   1308210 non-null  object        \n",
      " 14  hierarchy2_id   1308210 non-null  object        \n",
      " 15  hierarchy3_id   1308210 non-null  object        \n",
      " 16  hierarchy4_id   1308210 non-null  object        \n",
      " 17  hierarchy5_id   1308210 non-null  object        \n",
      " 18  storetype_id    1308210 non-null  object        \n",
      " 19  store_size      1308210 non-null  int64         \n",
      " 20  city_id_old     1308210 non-null  object        \n",
      " 21  country_id      1308210 non-null  object        \n",
      " 22  city_code       1308210 non-null  object        \n",
      "dtypes: datetime64[ns](1), float64(7), int64(3), object(12)\n",
      "memory usage: 229.6+ MB\n"
     ]
    }
   ],
   "source": [
    "df_isna = (weekly_sales\n",
    " .merge(product, how=\"left\", on=\"product_id\")\n",
    " .merge(cities, how=\"left\", on=\"store_id\")\n",
    ")\n",
    "\n",
    "df_isna.info() # Dataset merged with NaN's"
   ]
  },
  {
   "cell_type": "code",
   "execution_count": 250,
   "id": "eff68d0a-61ac-44e1-a732-ac53243f2e59",
   "metadata": {
    "scrolled": true
   },
   "outputs": [
    {
     "data": {
      "text/plain": [
       "store_id              0\n",
       "product_id            0\n",
       "week                  0\n",
       "sales                 0\n",
       "revenue               0\n",
       "stock             40421\n",
       "price             14282\n",
       "promo_bin_1           0\n",
       "promo_bin_2           0\n",
       "product_length     5860\n",
       "product_depth      5535\n",
       "product_width      5535\n",
       "cluster_id            0\n",
       "hierarchy1_id         0\n",
       "hierarchy2_id         0\n",
       "hierarchy3_id         0\n",
       "hierarchy4_id         0\n",
       "hierarchy5_id         0\n",
       "storetype_id          0\n",
       "store_size            0\n",
       "city_id_old           0\n",
       "country_id            0\n",
       "city_code             0\n",
       "dtype: int64"
      ]
     },
     "execution_count": 250,
     "metadata": {},
     "output_type": "execute_result"
    }
   ],
   "source": [
    "df_isna.isna().sum()"
   ]
  },
  {
   "cell_type": "code",
   "execution_count": 251,
   "id": "86836c5f-adfd-497a-9db2-c7caa3ae17cf",
   "metadata": {
    "scrolled": true
   },
   "outputs": [
    {
     "data": {
      "text/plain": [
       "array([18., 40., 10.,  4.,  7.,  4.,  6.,  7., 10.,  4.,  2.,  3.,  3.,\n",
       "        2.,  2.,  2., 11.,  7.,  7.,  8.,  5., 12.,  9.,  0.,  9.,  5.,\n",
       "        7., 12., 14., 16., 11., 20., 46., 13., 14.,  6., 13., 15., 11.,\n",
       "        8., 12., 11.,  8.,  6.,  7., 19., 32.,  6., 10., 10.,  8., 15.,\n",
       "       14., 10.,  4.,  4.,  6.,  9.,  8.,  7.,  4., 12.,  9., 12.,  6.,\n",
       "       18., 19.,  6., 31., 29.,  9., 16.,  7., 17., 26., 18.,  6.,  7.,\n",
       "       14., 15., 19., 15., 18., 15., 16., 19., 25., 15., 17., 10., 13.,\n",
       "       11.,  9.,  5.,  6.,  7.,  6.,  4., 11.,  9.,  2.,  2.,  3., 10.,\n",
       "        9.,  1.,  1.,  3.,  8.,  1.,  4.,  2.,  5.,  3.,  3.,  3.,  1.,\n",
       "        1.,  0.,  1.,  2.,  4.,  3.,  3.,  1.,  4., 12., 10.,  2.,  2.,\n",
       "       10.,  4.,  4.,  0.,  4.,  6.,  5., 12.,  9.,  7.,  6.,  7.,  7.,\n",
       "        1.,  0.,  0.,  0.,  0.])"
      ]
     },
     "execution_count": 251,
     "metadata": {},
     "output_type": "execute_result"
    }
   ],
   "source": [
    "# Preparation of data\n",
    "df_isna_filtered = df_isna[(df_isna[\"store_id\"] == \"S0085\") & (df_isna[\"product_id\"] == \"P0015\")] #Dataset Filtered by Store S0085\n",
    "# Product P0015\n",
    "df_isna_filtered_week = df_isna_filtered.groupby(\"week\")[\"sales\"].sum().sort_index() # sorts the df by its index (row or column)\n",
    "df_isna_filtered_week.values # Assuring that the dataset is an array -  grouped by week and the total sales"
   ]
  },
  {
   "cell_type": "markdown",
   "id": "be664548-b51a-4de0-b0f1-75f5eb11a078",
   "metadata": {
    "jp-MarkdownHeadingCollapsed": true
   },
   "source": [
    "Important steps:\n",
    "\n",
    "- Preparation table per weekly w/x(features: stock), y(target: sales):\n",
    "\n",
    "- missing values 0 stock & price\n",
    "\n",
    "- Filter by select stores and then select hierarchies\n",
    "\n",
    "- x(features: stock), y(target: sales)\n",
    "\n",
    "- Think if using mean on aggregated categoric products or sum (Search information about it to justify)"
   ]
  },
  {
   "cell_type": "code",
   "execution_count": 253,
   "id": "1f6a2f17-b298-42a2-9d06-f0a3d8cc7f21",
   "metadata": {},
   "outputs": [
    {
     "name": "stdout",
     "output_type": "stream",
     "text": [
      "  store_id product_id       week  sales  revenue     stock     price  \\\n",
      "0    S0002      P0001 2017-01-02    2.0    10.59  7.428571  6.250000   \n",
      "1    S0002      P0001 2017-01-09    3.0    16.32  4.571429  6.321429   \n",
      "2    S0002      P0001 2017-01-16    2.0    11.02  1.714286  6.500000   \n",
      "3    S0002      P0001 2017-01-23    0.0     0.00  1.000000  6.500000   \n",
      "4    S0002      P0001 2017-01-30    0.0     0.00  1.000000  6.500000   \n",
      "\n",
      "   promo_bin_1  promo_bin_2  product_length  ...  hierarchy1_id  \\\n",
      "0            0            0            13.5  ...            H01   \n",
      "1            0            0            13.5  ...            H01   \n",
      "2            0            0            13.5  ...            H01   \n",
      "3            0            0            13.5  ...            H01   \n",
      "4            0            0            13.5  ...            H01   \n",
      "\n",
      "   hierarchy2_id hierarchy3_id hierarchy4_id hierarchy5_id storetype_id  \\\n",
      "0          H0105       H010501     H01050100   H0105010006         ST04   \n",
      "1          H0105       H010501     H01050100   H0105010006         ST04   \n",
      "2          H0105       H010501     H01050100   H0105010006         ST04   \n",
      "3          H0105       H010501     H01050100   H0105010006         ST04   \n",
      "4          H0105       H010501     H01050100   H0105010006         ST04   \n",
      "\n",
      "  store_size city_id_old country_id  city_code  \n",
      "0         39        C007     TURKEY      Adana  \n",
      "1         39        C007     TURKEY      Adana  \n",
      "2         39        C007     TURKEY      Adana  \n",
      "3         39        C007     TURKEY      Adana  \n",
      "4         39        C007     TURKEY      Adana  \n",
      "\n",
      "[5 rows x 23 columns]\n"
     ]
    }
   ],
   "source": [
    "### Fill na values\n",
    "df_fillna = df_isna.fillna(value={\"stock\": 0, \"price\": 0}) # set only stock and price to 0 \n",
    "\n",
    "#df_fillna.isna().sum()\n",
    "print(df_fillna.head())"
   ]
  },
  {
   "cell_type": "code",
   "execution_count": 254,
   "id": "e21681af-bfad-44fd-b299-1c0c3da64363",
   "metadata": {},
   "outputs": [],
   "source": [
    "# Creation of Hierarchy df's\n",
    "df_h00 = df_fillna[(df_fillna[\"store_id\"].isin([\"S0085\", \"S0095\", \"S0026\", \"S0080\"])) & (df_fillna[\"hierarchy1_id\"] == \"H00\")]\n",
    "df_h01 = df_fillna[(df_fillna[\"store_id\"].isin([\"S0085\", \"S0095\", \"S0026\", \"S0080\"])) & (df_fillna[\"hierarchy1_id\"] == \"H01\")]\n",
    "df_h02 = df_fillna[(df_fillna[\"store_id\"].isin([\"S0085\", \"S0095\", \"S0026\", \"S0080\"])) & (df_fillna[\"hierarchy1_id\"] == \"H02\")]\n",
    "df_h03 = df_fillna[(df_fillna[\"store_id\"].isin([\"S0085\", \"S0095\", \"S0026\", \"S0080\"])) & (df_fillna[\"hierarchy1_id\"] == \"H03\")]"
   ]
  },
  {
   "cell_type": "code",
   "execution_count": 255,
   "id": "e201fc09-76e5-4923-a509-bb2f7d9cbb68",
   "metadata": {
    "scrolled": true
   },
   "outputs": [
    {
     "data": {
      "text/html": [
       "<div>\n",
       "<style scoped>\n",
       "    .dataframe tbody tr th:only-of-type {\n",
       "        vertical-align: middle;\n",
       "    }\n",
       "\n",
       "    .dataframe tbody tr th {\n",
       "        vertical-align: top;\n",
       "    }\n",
       "\n",
       "    .dataframe thead th {\n",
       "        text-align: right;\n",
       "    }\n",
       "</style>\n",
       "<table border=\"1\" class=\"dataframe\">\n",
       "  <thead>\n",
       "    <tr style=\"text-align: right;\">\n",
       "      <th></th>\n",
       "      <th>store_id</th>\n",
       "      <th>product_id</th>\n",
       "      <th>week</th>\n",
       "      <th>sales</th>\n",
       "      <th>revenue</th>\n",
       "      <th>stock</th>\n",
       "      <th>price</th>\n",
       "      <th>promo_bin_1</th>\n",
       "      <th>promo_bin_2</th>\n",
       "      <th>product_length</th>\n",
       "      <th>...</th>\n",
       "      <th>hierarchy1_id</th>\n",
       "      <th>hierarchy2_id</th>\n",
       "      <th>hierarchy3_id</th>\n",
       "      <th>hierarchy4_id</th>\n",
       "      <th>hierarchy5_id</th>\n",
       "      <th>storetype_id</th>\n",
       "      <th>store_size</th>\n",
       "      <th>city_id_old</th>\n",
       "      <th>country_id</th>\n",
       "      <th>city_code</th>\n",
       "    </tr>\n",
       "  </thead>\n",
       "  <tbody>\n",
       "    <tr>\n",
       "      <th>234210</th>\n",
       "      <td>S0026</td>\n",
       "      <td>P0008</td>\n",
       "      <td>2018-04-02</td>\n",
       "      <td>0.0</td>\n",
       "      <td>0.00</td>\n",
       "      <td>12.000000</td>\n",
       "      <td>6.0</td>\n",
       "      <td>0</td>\n",
       "      <td>0</td>\n",
       "      <td>5.0</td>\n",
       "      <td>...</td>\n",
       "      <td>H00</td>\n",
       "      <td>H0000</td>\n",
       "      <td>H000004</td>\n",
       "      <td>H00000400</td>\n",
       "      <td>H0000040017</td>\n",
       "      <td>ST04</td>\n",
       "      <td>41</td>\n",
       "      <td>C014</td>\n",
       "      <td>TURKEY</td>\n",
       "      <td>Istanbul</td>\n",
       "    </tr>\n",
       "    <tr>\n",
       "      <th>234211</th>\n",
       "      <td>S0026</td>\n",
       "      <td>P0008</td>\n",
       "      <td>2018-04-09</td>\n",
       "      <td>0.0</td>\n",
       "      <td>0.00</td>\n",
       "      <td>12.000000</td>\n",
       "      <td>6.0</td>\n",
       "      <td>0</td>\n",
       "      <td>0</td>\n",
       "      <td>5.0</td>\n",
       "      <td>...</td>\n",
       "      <td>H00</td>\n",
       "      <td>H0000</td>\n",
       "      <td>H000004</td>\n",
       "      <td>H00000400</td>\n",
       "      <td>H0000040017</td>\n",
       "      <td>ST04</td>\n",
       "      <td>41</td>\n",
       "      <td>C014</td>\n",
       "      <td>TURKEY</td>\n",
       "      <td>Istanbul</td>\n",
       "    </tr>\n",
       "    <tr>\n",
       "      <th>234212</th>\n",
       "      <td>S0026</td>\n",
       "      <td>P0008</td>\n",
       "      <td>2018-04-16</td>\n",
       "      <td>0.0</td>\n",
       "      <td>0.00</td>\n",
       "      <td>12.000000</td>\n",
       "      <td>6.0</td>\n",
       "      <td>0</td>\n",
       "      <td>0</td>\n",
       "      <td>5.0</td>\n",
       "      <td>...</td>\n",
       "      <td>H00</td>\n",
       "      <td>H0000</td>\n",
       "      <td>H000004</td>\n",
       "      <td>H00000400</td>\n",
       "      <td>H0000040017</td>\n",
       "      <td>ST04</td>\n",
       "      <td>41</td>\n",
       "      <td>C014</td>\n",
       "      <td>TURKEY</td>\n",
       "      <td>Istanbul</td>\n",
       "    </tr>\n",
       "    <tr>\n",
       "      <th>234213</th>\n",
       "      <td>S0026</td>\n",
       "      <td>P0008</td>\n",
       "      <td>2018-04-23</td>\n",
       "      <td>3.0</td>\n",
       "      <td>16.68</td>\n",
       "      <td>9.428571</td>\n",
       "      <td>6.0</td>\n",
       "      <td>0</td>\n",
       "      <td>0</td>\n",
       "      <td>5.0</td>\n",
       "      <td>...</td>\n",
       "      <td>H00</td>\n",
       "      <td>H0000</td>\n",
       "      <td>H000004</td>\n",
       "      <td>H00000400</td>\n",
       "      <td>H0000040017</td>\n",
       "      <td>ST04</td>\n",
       "      <td>41</td>\n",
       "      <td>C014</td>\n",
       "      <td>TURKEY</td>\n",
       "      <td>Istanbul</td>\n",
       "    </tr>\n",
       "    <tr>\n",
       "      <th>234214</th>\n",
       "      <td>S0026</td>\n",
       "      <td>P0008</td>\n",
       "      <td>2018-04-30</td>\n",
       "      <td>2.0</td>\n",
       "      <td>11.12</td>\n",
       "      <td>8.428571</td>\n",
       "      <td>6.0</td>\n",
       "      <td>0</td>\n",
       "      <td>0</td>\n",
       "      <td>5.0</td>\n",
       "      <td>...</td>\n",
       "      <td>H00</td>\n",
       "      <td>H0000</td>\n",
       "      <td>H000004</td>\n",
       "      <td>H00000400</td>\n",
       "      <td>H0000040017</td>\n",
       "      <td>ST04</td>\n",
       "      <td>41</td>\n",
       "      <td>C014</td>\n",
       "      <td>TURKEY</td>\n",
       "      <td>Istanbul</td>\n",
       "    </tr>\n",
       "  </tbody>\n",
       "</table>\n",
       "<p>5 rows × 23 columns</p>\n",
       "</div>"
      ],
      "text/plain": [
       "       store_id product_id       week  sales  revenue      stock  price  \\\n",
       "234210    S0026      P0008 2018-04-02    0.0     0.00  12.000000    6.0   \n",
       "234211    S0026      P0008 2018-04-09    0.0     0.00  12.000000    6.0   \n",
       "234212    S0026      P0008 2018-04-16    0.0     0.00  12.000000    6.0   \n",
       "234213    S0026      P0008 2018-04-23    3.0    16.68   9.428571    6.0   \n",
       "234214    S0026      P0008 2018-04-30    2.0    11.12   8.428571    6.0   \n",
       "\n",
       "        promo_bin_1  promo_bin_2  product_length  ...  hierarchy1_id  \\\n",
       "234210            0            0             5.0  ...            H00   \n",
       "234211            0            0             5.0  ...            H00   \n",
       "234212            0            0             5.0  ...            H00   \n",
       "234213            0            0             5.0  ...            H00   \n",
       "234214            0            0             5.0  ...            H00   \n",
       "\n",
       "        hierarchy2_id hierarchy3_id hierarchy4_id hierarchy5_id storetype_id  \\\n",
       "234210          H0000       H000004     H00000400   H0000040017         ST04   \n",
       "234211          H0000       H000004     H00000400   H0000040017         ST04   \n",
       "234212          H0000       H000004     H00000400   H0000040017         ST04   \n",
       "234213          H0000       H000004     H00000400   H0000040017         ST04   \n",
       "234214          H0000       H000004     H00000400   H0000040017         ST04   \n",
       "\n",
       "       store_size city_id_old country_id  city_code  \n",
       "234210         41        C014     TURKEY   Istanbul  \n",
       "234211         41        C014     TURKEY   Istanbul  \n",
       "234212         41        C014     TURKEY   Istanbul  \n",
       "234213         41        C014     TURKEY   Istanbul  \n",
       "234214         41        C014     TURKEY   Istanbul  \n",
       "\n",
       "[5 rows x 23 columns]"
      ]
     },
     "execution_count": 255,
     "metadata": {},
     "output_type": "execute_result"
    }
   ],
   "source": [
    "df_h00.head()"
   ]
  },
  {
   "cell_type": "code",
   "execution_count": 256,
   "id": "c6002d23-d72e-4c0b-8b38-2999406e7f58",
   "metadata": {},
   "outputs": [
    {
     "data": {
      "text/html": [
       "<div>\n",
       "<style scoped>\n",
       "    .dataframe tbody tr th:only-of-type {\n",
       "        vertical-align: middle;\n",
       "    }\n",
       "\n",
       "    .dataframe tbody tr th {\n",
       "        vertical-align: top;\n",
       "    }\n",
       "\n",
       "    .dataframe thead th {\n",
       "        text-align: right;\n",
       "    }\n",
       "</style>\n",
       "<table border=\"1\" class=\"dataframe\">\n",
       "  <thead>\n",
       "    <tr style=\"text-align: right;\">\n",
       "      <th></th>\n",
       "      <th>sales</th>\n",
       "      <th>stock</th>\n",
       "      <th>promo_bin_1</th>\n",
       "      <th>promo_bin_2</th>\n",
       "      <th>price</th>\n",
       "      <th>n_unique_products</th>\n",
       "      <th>store_size</th>\n",
       "      <th>week_number</th>\n",
       "      <th>month</th>\n",
       "      <th>year</th>\n",
       "    </tr>\n",
       "    <tr>\n",
       "      <th>week</th>\n",
       "      <th></th>\n",
       "      <th></th>\n",
       "      <th></th>\n",
       "      <th></th>\n",
       "      <th></th>\n",
       "      <th></th>\n",
       "      <th></th>\n",
       "      <th></th>\n",
       "      <th></th>\n",
       "      <th></th>\n",
       "    </tr>\n",
       "  </thead>\n",
       "  <tbody>\n",
       "    <tr>\n",
       "      <th>2017-01-02</th>\n",
       "      <td>4832.57</td>\n",
       "      <td>39.32</td>\n",
       "      <td>0.18</td>\n",
       "      <td>0.0</td>\n",
       "      <td>6.31</td>\n",
       "      <td>114</td>\n",
       "      <td>44.22</td>\n",
       "      <td>1</td>\n",
       "      <td>1</td>\n",
       "      <td>2017</td>\n",
       "    </tr>\n",
       "    <tr>\n",
       "      <th>2017-01-09</th>\n",
       "      <td>5446.46</td>\n",
       "      <td>37.35</td>\n",
       "      <td>0.04</td>\n",
       "      <td>0.0</td>\n",
       "      <td>6.34</td>\n",
       "      <td>114</td>\n",
       "      <td>44.19</td>\n",
       "      <td>2</td>\n",
       "      <td>1</td>\n",
       "      <td>2017</td>\n",
       "    </tr>\n",
       "    <tr>\n",
       "      <th>2017-01-16</th>\n",
       "      <td>5764.71</td>\n",
       "      <td>44.81</td>\n",
       "      <td>0.11</td>\n",
       "      <td>0.0</td>\n",
       "      <td>6.27</td>\n",
       "      <td>114</td>\n",
       "      <td>44.23</td>\n",
       "      <td>3</td>\n",
       "      <td>1</td>\n",
       "      <td>2017</td>\n",
       "    </tr>\n",
       "    <tr>\n",
       "      <th>2017-01-23</th>\n",
       "      <td>6355.06</td>\n",
       "      <td>41.10</td>\n",
       "      <td>0.07</td>\n",
       "      <td>0.0</td>\n",
       "      <td>6.37</td>\n",
       "      <td>115</td>\n",
       "      <td>44.21</td>\n",
       "      <td>4</td>\n",
       "      <td>1</td>\n",
       "      <td>2017</td>\n",
       "    </tr>\n",
       "    <tr>\n",
       "      <th>2017-01-30</th>\n",
       "      <td>6282.21</td>\n",
       "      <td>41.46</td>\n",
       "      <td>0.13</td>\n",
       "      <td>0.0</td>\n",
       "      <td>6.35</td>\n",
       "      <td>115</td>\n",
       "      <td>44.18</td>\n",
       "      <td>5</td>\n",
       "      <td>1</td>\n",
       "      <td>2017</td>\n",
       "    </tr>\n",
       "  </tbody>\n",
       "</table>\n",
       "</div>"
      ],
      "text/plain": [
       "              sales  stock  promo_bin_1  promo_bin_2  price  \\\n",
       "week                                                          \n",
       "2017-01-02  4832.57  39.32         0.18          0.0   6.31   \n",
       "2017-01-09  5446.46  37.35         0.04          0.0   6.34   \n",
       "2017-01-16  5764.71  44.81         0.11          0.0   6.27   \n",
       "2017-01-23  6355.06  41.10         0.07          0.0   6.37   \n",
       "2017-01-30  6282.21  41.46         0.13          0.0   6.35   \n",
       "\n",
       "            n_unique_products  store_size  week_number  month  year  \n",
       "week                                                                 \n",
       "2017-01-02                114       44.22            1      1  2017  \n",
       "2017-01-09                114       44.19            2      1  2017  \n",
       "2017-01-16                114       44.23            3      1  2017  \n",
       "2017-01-23                115       44.21            4      1  2017  \n",
       "2017-01-30                115       44.18            5      1  2017  "
      ]
     },
     "execution_count": 256,
     "metadata": {},
     "output_type": "execute_result"
    }
   ],
   "source": [
    "df_h00_model = (round(df_h00\n",
    "       .groupby(\"week\")[[\"sales\", \"stock\", \"promo_bin_1\", \"promo_bin_2\", \"price\", \"store_id\", \"product_id\", \"store_size\"]]\n",
    "       .agg({\n",
    "           \"sales\": \"sum\", # total weekly sales \n",
    "           \"stock\": \"mean\", #avg stock for the week #maybe test median\n",
    "          \"promo_bin_1\": \"mean\", # % of products with promo\n",
    "           \"promo_bin_2\": \"mean\", # % of products with promo\n",
    "           \"price\": \"mean\", # average price in the week\n",
    "           \"product_id\": pd.Series.nunique, # how many unique products were sold this week (breadth)\n",
    "           \"store_size\": \"mean\" # average store size\n",
    "       })\n",
    "       .rename(columns={\"product_id\": \"n_unique_products\"})\n",
    "       ,2))\n",
    "\n",
    "df_h00_model[\"week_number\"] = df_h00_model.index.isocalendar().week #adding week to dataframe\n",
    "df_h00_model[\"month\"] = df_h00_model.index.month #adding month to dataframe\n",
    "df_h00_model[\"year\"] = df_h00_model.index.year #adding year to dataframe\n",
    "\n",
    "df_h00_model.head()"
   ]
  },
  {
   "cell_type": "markdown",
   "id": "ca5386ed-75a8-4b54-abf0-1888f90366ae",
   "metadata": {
    "jp-MarkdownHeadingCollapsed": true
   },
   "source": [
    "### Stationarity"
   ]
  },
  {
   "cell_type": "code",
   "execution_count": 258,
   "id": "463deda2-4af1-4acf-ab3b-dc5b92ef1983",
   "metadata": {},
   "outputs": [],
   "source": [
    "# Check for stationarity - df_isna_filtered_week\n",
    "#results = adfuller(df_isna_filtered_week)\n",
    "#print(f\"ADF Statistics: {results[0]:.4f}\")\n",
    "#print(f\"p-value: {results[1]:.4f}\")"
   ]
  },
  {
   "cell_type": "code",
   "execution_count": 259,
   "id": "e76aed45-2c88-4505-b6ab-f227adbd8661",
   "metadata": {},
   "outputs": [
    {
     "name": "stdout",
     "output_type": "stream",
     "text": [
      "ADF Statistics: -2.8669\n",
      "p-value: 0.0493\n"
     ]
    }
   ],
   "source": [
    "# Check for stationarity - df_h00_model\n",
    "statio_df_h00_model = adfuller(df_h00_model[\"sales\"])\n",
    "print(f\"ADF Statistics: {statio_df_h00_model[0]:.4f}\")\n",
    "print(f\"p-value: {statio_df_h00_model[1]:.4f}\")\n",
    "\n",
    "# We can assume stationary but its worth it to try d = 1 in the arima models"
   ]
  },
  {
   "cell_type": "code",
   "execution_count": null,
   "id": "01e8eabc-8ca9-4728-9f57-5ef7257ff4c7",
   "metadata": {},
   "outputs": [],
   "source": []
  },
  {
   "cell_type": "markdown",
   "id": "a4f50e01-c83e-45fc-8349-a8a48c65f733",
   "metadata": {
    "jp-MarkdownHeadingCollapsed": true
   },
   "source": [
    "### Differencing"
   ]
  },
  {
   "cell_type": "code",
   "execution_count": 261,
   "id": "28003b42-b7a2-4934-a050-5f2cdb9f0a4c",
   "metadata": {
    "scrolled": true
   },
   "outputs": [
    {
     "data": {
      "image/png": "[encoded data removed]",
      "text/plain": [
       "<Figure size 640x480 with 1 Axes>"
      ]
     },
     "metadata": {},
     "output_type": "display_data"
    }
   ],
   "source": [
    "diff_data = df_isna_filtered_week.diff().dropna() # dropna to eliminate first row of nan\n",
    "diff_data.plot(title=\"Diferenciated Series\")\n",
    "plt.show()"
   ]
  },
  {
   "cell_type": "code",
   "execution_count": 262,
   "id": "2ea6943b-80ea-4bd4-940f-56493f828a7a",
   "metadata": {
    "jupyter": {
     "source_hidden": true
    }
   },
   "outputs": [
    {
     "name": "stdout",
     "output_type": "stream",
     "text": [
      "ADF statistics: -10.6827\n",
      "p-value: 0.0000\n"
     ]
    }
   ],
   "source": [
    "# Check again stationary\n",
    "results_diff = adfuller(diff_data)\n",
    "print(f\"ADF statistics: {results_diff[0]:.4f}\")\n",
    "print(f\"p-value: {results_diff[1]:.4f}\")\n",
    "## p-value: 0.00 < 0.05 = Reject Null Hypothesis (Series is stationary)"
   ]
  },
  {
   "cell_type": "code",
   "execution_count": 263,
   "id": "4c3a25a7-1a57-4f0b-a3ff-eab99de03506",
   "metadata": {
    "scrolled": true
   },
   "outputs": [
    {
     "data": {
      "text/plain": [
       "<Axes: xlabel='week'>"
      ]
     },
     "execution_count": 263,
     "metadata": {},
     "output_type": "execute_result"
    },
    {
     "data": {
      "image/png": "[encoded data removed]",
      "text/plain": [
       "<Figure size 640x480 with 1 Axes>"
      ]
     },
     "metadata": {},
     "output_type": "display_data"
    }
   ],
   "source": [
    "df_isna_filtered.groupby(\"week\")[[\"sales\", \"stock\"]].sum().sort_index().tail(20).plot()"
   ]
  },
  {
   "cell_type": "code",
   "execution_count": 264,
   "id": "63a5ea78-bc2d-4cc3-8c39-19c4303d053d",
   "metadata": {
    "scrolled": true
   },
   "outputs": [
    {
     "data": {
      "image/png": "[encoded data removed]",
      "text/plain": [
       "<Figure size 640x480 with 1 Axes>"
      ]
     },
     "metadata": {},
     "output_type": "display_data"
    }
   ],
   "source": [
    "df_isna_filtered_week.plot(ylim=0);"
   ]
  },
  {
   "cell_type": "markdown",
   "id": "f08f098b-1024-4081-9aed-f062f678a446",
   "metadata": {
    "jp-MarkdownHeadingCollapsed": true
   },
   "source": [
    "### Seasonality & trends"
   ]
  },
  {
   "cell_type": "markdown",
   "id": "7e8aa841-8c6a-4de9-be74-1832236ebf25",
   "metadata": {},
   "source": [
    "#### Smoothing - Rolling AVG."
   ]
  },
  {
   "cell_type": "code",
   "execution_count": 267,
   "id": "61ca4d65-6776-4793-8f61-7442e054ec8c",
   "metadata": {},
   "outputs": [
    {
     "data": {
      "image/png": "[encoded data removed]",
      "text/plain": [
       "<Figure size 640x480 with 1 Axes>"
      ]
     },
     "metadata": {},
     "output_type": "display_data"
    }
   ],
   "source": [
    "# Identify components of the time series:\n",
    "## Trend\n",
    "## Seasonality\n",
    "## Noise\n",
    "df_isna_filtered_week.plot(ylim=0);"
   ]
  },
  {
   "cell_type": "code",
   "execution_count": 268,
   "id": "6332ea79-49ca-4565-8038-9892378aa2d0",
   "metadata": {},
   "outputs": [],
   "source": [
    "# Smooth Time Series (4 weeks - 3 Months)"
   ]
  },
  {
   "cell_type": "code",
   "execution_count": 269,
   "id": "65f43322-5fb0-471e-b3ed-607b4e659a72",
   "metadata": {},
   "outputs": [
    {
     "data": {
      "image/png": "[encoded data removed]",
      "text/plain": [
       "<Figure size 640x480 with 1 Axes>"
      ]
     },
     "metadata": {},
     "output_type": "display_data"
    }
   ],
   "source": [
    "df_isna_filtered_week.rolling(4*3).mean().plot(ylim=0);"
   ]
  },
  {
   "cell_type": "code",
   "execution_count": 270,
   "id": "0b914011-8486-4fbd-ad47-b9512f0e6d00",
   "metadata": {},
   "outputs": [
    {
     "data": {
      "image/png": "[encoded data removed]",
      "text/plain": [
       "<Figure size 640x480 with 1 Axes>"
      ]
     },
     "metadata": {},
     "output_type": "display_data"
    }
   ],
   "source": [
    "df_h00_model[\"sales\"].plot(ylim=0);"
   ]
  },
  {
   "cell_type": "markdown",
   "id": "bf48b130-1a47-4c3b-bc56-9034a49192bc",
   "metadata": {},
   "source": [
    "#### Decomposition"
   ]
  },
  {
   "cell_type": "code",
   "execution_count": 272,
   "id": "d393a43a-d764-48af-b524-ac9fc9b1ed25",
   "metadata": {},
   "outputs": [
    {
     "data": {
      "image/png": "[encoded data removed]",
      "text/plain": [
       "<Figure size 640x480 with 4 Axes>"
      ]
     },
     "metadata": {},
     "output_type": "display_data"
    }
   ],
   "source": [
    "decompose = seasonal_decompose(df_h00_model[\"sales\"], model=\"additive\", period=52)\n",
    "decompose.plot();"
   ]
  },
  {
   "cell_type": "markdown",
   "id": "7134f085-2d84-4226-ace4-7ede63e74933",
   "metadata": {},
   "source": [
    "#### AutoCorrelation & Partial AutoCorrelation"
   ]
  },
  {
   "cell_type": "code",
   "execution_count": 274,
   "id": "5e10642e-4e47-41b3-b915-42d332bd854d",
   "metadata": {},
   "outputs": [
    {
     "data": {
      "image/png": "[encoded data removed]",
      "text/plain": [
       "<Figure size 640x480 with 1 Axes>"
      ]
     },
     "metadata": {},
     "output_type": "display_data"
    }
   ],
   "source": [
    "plot_acf(diff_data); # diff_data is the differenciated data - when doing ACF is mandatory to remove any trend"
   ]
  },
  {
   "cell_type": "code",
   "execution_count": 275,
   "id": "4cb48bcc-01eb-4e3b-96db-c45a4af89256",
   "metadata": {},
   "outputs": [
    {
     "data": {
      "image/png": "[encoded data removed]",
      "text/plain": [
       "<Figure size 640x480 with 1 Axes>"
      ]
     },
     "metadata": {},
     "output_type": "display_data"
    }
   ],
   "source": [
    "plot_pacf(diff_data);"
   ]
  },
  {
   "cell_type": "markdown",
   "id": "2b9e5069-22c4-4220-a65a-adb0977f4367",
   "metadata": {
    "jp-MarkdownHeadingCollapsed": true
   },
   "source": [
    "### Train-Test Split "
   ]
  },
  {
   "cell_type": "code",
   "execution_count": 277,
   "id": "142395d1-c879-4374-8237-dd7eafe47e55",
   "metadata": {
    "scrolled": true
   },
   "outputs": [
    {
     "name": "stdout",
     "output_type": "stream",
     "text": [
      "144\n",
      "4\n",
      "2019-09-30 00:00:00\n",
      "2019-10-07 00:00:00\n"
     ]
    }
   ],
   "source": [
    "train_data = df_h00_model.iloc[:-4]\n",
    "test_data = df_h00_model.iloc[-4:]\n",
    "\n",
    "print(len(train_data))\n",
    "print(len(test_data))\n",
    "print(train_data.index.max()) # last week of training data\n",
    "print(test_data.index.min()) # first week of test data"
   ]
  },
  {
   "cell_type": "markdown",
   "id": "522427c8-0252-43f9-97c5-926d086bce44",
   "metadata": {},
   "source": [
    "### AutoARIMA - XREG / ARIMAX"
   ]
  },
  {
   "cell_type": "markdown",
   "id": "7e7e98d5-6af5-461b-8274-a7e52e9027da",
   "metadata": {},
   "source": [
    "### Auto-ARIMA"
   ]
  },
  {
   "cell_type": "markdown",
   "id": "87528242-b70c-42fe-8329-95d70c818df6",
   "metadata": {},
   "source": [
    "| Strength                                      | Why it matters for inventory                                                                                   |\n",
    "| --------------------------------------------- | -------------------------------------------------------------------------------------------------------------- |\n",
    "| 📉 **Short-term accuracy**                    | ARIMA excels at capturing local patterns like last few weeks’ sales — critical for weekly inventory decisions. |\n",
    "| 🧮 **Interpretable**                          | Easy to understand and control: “Use last 2 weeks, difference once, correct with recent error.”                |\n",
    "| 🔁 **Well-tested for univariate time series** | Forecasting **one variable** (sales per product/store) is ARIMA’s wheelhouse.                                  |\n"
   ]
  },
  {
   "cell_type": "markdown",
   "id": "231bcf2f-5e5d-431e-b24f-0da7d726ab97",
   "metadata": {},
   "source": [
    "#### Fit Auto-Arima Model"
   ]
  },
  {
   "cell_type": "code",
   "execution_count": 282,
   "id": "8af3a860-ef4e-4378-b285-cdb76a0d20d1",
   "metadata": {
    "scrolled": true
   },
   "outputs": [
    {
     "name": "stdout",
     "output_type": "stream",
     "text": [
      "Performing stepwise search to minimize aic\n",
      " ARIMA(2,1,2)(1,0,1)[52] intercept   : AIC=inf, Time=4.04 sec\n",
      " ARIMA(0,1,0)(0,0,0)[52] intercept   : AIC=2285.475, Time=0.02 sec\n",
      " ARIMA(1,1,0)(1,0,0)[52] intercept   : AIC=2284.951, Time=0.83 sec\n",
      " ARIMA(0,1,1)(0,0,1)[52] intercept   : AIC=2283.474, Time=0.98 sec\n",
      " ARIMA(0,1,0)(0,0,0)[52]             : AIC=2283.745, Time=0.01 sec\n",
      " ARIMA(0,1,1)(0,0,0)[52] intercept   : AIC=2282.792, Time=0.02 sec\n",
      " ARIMA(0,1,1)(1,0,0)[52] intercept   : AIC=2283.613, Time=0.72 sec\n",
      " ARIMA(0,1,1)(1,0,1)[52] intercept   : AIC=inf, Time=1.87 sec\n",
      " ARIMA(1,1,1)(0,0,0)[52] intercept   : AIC=inf, Time=0.08 sec\n",
      " ARIMA(0,1,2)(0,0,0)[52] intercept   : AIC=2274.150, Time=0.12 sec\n",
      " ARIMA(0,1,2)(1,0,0)[52] intercept   : AIC=2275.212, Time=1.88 sec\n",
      " ARIMA(0,1,2)(0,0,1)[52] intercept   : AIC=2275.088, Time=1.80 sec\n",
      " ARIMA(0,1,2)(1,0,1)[52] intercept   : AIC=inf, Time=2.54 sec\n",
      " ARIMA(1,1,2)(0,0,0)[52] intercept   : AIC=inf, Time=0.07 sec\n",
      " ARIMA(0,1,3)(0,0,0)[52] intercept   : AIC=2273.467, Time=0.08 sec\n",
      " ARIMA(0,1,3)(1,0,0)[52] intercept   : AIC=2273.617, Time=2.60 sec\n",
      " ARIMA(0,1,3)(0,0,1)[52] intercept   : AIC=2273.408, Time=2.94 sec\n",
      " ARIMA(0,1,3)(1,0,1)[52] intercept   : AIC=inf, Time=4.96 sec\n",
      " ARIMA(0,1,3)(0,0,2)[52] intercept   : AIC=2275.252, Time=14.10 sec\n",
      " ARIMA(0,1,3)(1,0,2)[52] intercept   : AIC=inf, Time=15.13 sec\n",
      " ARIMA(1,1,3)(0,0,1)[52] intercept   : AIC=2277.537, Time=4.14 sec\n",
      " ARIMA(0,1,4)(0,0,1)[52] intercept   : AIC=inf, Time=4.43 sec\n",
      " ARIMA(1,1,2)(0,0,1)[52] intercept   : AIC=inf, Time=3.68 sec\n",
      " ARIMA(1,1,4)(0,0,1)[52] intercept   : AIC=2270.484, Time=5.16 sec\n",
      " ARIMA(1,1,4)(0,0,0)[52] intercept   : AIC=2270.029, Time=0.20 sec\n",
      " ARIMA(1,1,4)(1,0,0)[52] intercept   : AIC=2270.695, Time=5.06 sec\n",
      " ARIMA(1,1,4)(1,0,1)[52] intercept   : AIC=inf, Time=6.01 sec\n",
      " ARIMA(0,1,4)(0,0,0)[52] intercept   : AIC=inf, Time=0.17 sec\n",
      " ARIMA(1,1,3)(0,0,0)[52] intercept   : AIC=2276.316, Time=0.15 sec\n",
      " ARIMA(2,1,4)(0,0,0)[52] intercept   : AIC=2272.039, Time=0.16 sec\n",
      " ARIMA(1,1,5)(0,0,0)[52] intercept   : AIC=2272.305, Time=0.24 sec\n",
      " ARIMA(0,1,5)(0,0,0)[52] intercept   : AIC=2271.618, Time=0.20 sec\n",
      " ARIMA(2,1,3)(0,0,0)[52] intercept   : AIC=inf, Time=0.17 sec\n",
      " ARIMA(2,1,5)(0,0,0)[52] intercept   : AIC=inf, Time=0.26 sec\n",
      " ARIMA(1,1,4)(0,0,0)[52]             : AIC=2269.922, Time=0.10 sec\n",
      " ARIMA(1,1,4)(1,0,0)[52]             : AIC=2270.742, Time=3.52 sec\n",
      " ARIMA(1,1,4)(0,0,1)[52]             : AIC=2270.617, Time=3.82 sec\n",
      " ARIMA(1,1,4)(1,0,1)[52]             : AIC=inf, Time=5.58 sec\n",
      " ARIMA(0,1,4)(0,0,0)[52]             : AIC=2270.559, Time=0.09 sec\n",
      " ARIMA(1,1,3)(0,0,0)[52]             : AIC=2275.280, Time=0.09 sec\n",
      " ARIMA(2,1,4)(0,0,0)[52]             : AIC=2271.906, Time=0.13 sec\n",
      " ARIMA(1,1,5)(0,0,0)[52]             : AIC=2271.914, Time=0.15 sec\n",
      " ARIMA(0,1,3)(0,0,0)[52]             : AIC=2273.028, Time=0.06 sec\n",
      " ARIMA(0,1,5)(0,0,0)[52]             : AIC=2271.470, Time=0.11 sec\n",
      " ARIMA(2,1,3)(0,0,0)[52]             : AIC=2270.924, Time=0.11 sec\n",
      " ARIMA(2,1,5)(0,0,0)[52]             : AIC=2273.992, Time=0.24 sec\n",
      "\n",
      "Best model:  ARIMA(1,1,4)(0,0,0)[52]          \n",
      "Total fit time: 98.914 seconds\n"
     ]
    },
    {
     "data": {
      "text/html": [
       "<table class=\"simpletable\">\n",
       "<caption>SARIMAX Results</caption>\n",
       "<tr>\n",
       "  <th>Dep. Variable:</th>           <td>y</td>        <th>  No. Observations:  </th>    <td>144</td>   \n",
       "</tr>\n",
       "<tr>\n",
       "  <th>Model:</th>           <td>SARIMAX(1, 1, 4)</td> <th>  Log Likelihood     </th> <td>-1128.961</td>\n",
       "</tr>\n",
       "<tr>\n",
       "  <th>Date:</th>            <td>Sun, 13 Jul 2025</td> <th>  AIC                </th> <td>2269.922</td> \n",
       "</tr>\n",
       "<tr>\n",
       "  <th>Time:</th>                <td>16:58:47</td>     <th>  BIC                </th> <td>2287.699</td> \n",
       "</tr>\n",
       "<tr>\n",
       "  <th>Sample:</th>             <td>01-02-2017</td>    <th>  HQIC               </th> <td>2277.146</td> \n",
       "</tr>\n",
       "<tr>\n",
       "  <th></th>                   <td>- 09-30-2019</td>   <th>                     </th>     <td> </td>    \n",
       "</tr>\n",
       "<tr>\n",
       "  <th>Covariance Type:</th>        <td>opg</td>       <th>                     </th>     <td> </td>    \n",
       "</tr>\n",
       "</table>\n",
       "<table class=\"simpletable\">\n",
       "<tr>\n",
       "     <td></td>       <th>coef</th>     <th>std err</th>      <th>z</th>      <th>P>|z|</th>  <th>[0.025</th>    <th>0.975]</th>  \n",
       "</tr>\n",
       "<tr>\n",
       "  <th>ar.L1</th>  <td>   -0.6368</td> <td>    0.345</td> <td>   -1.844</td> <td> 0.065</td> <td>   -1.314</td> <td>    0.040</td>\n",
       "</tr>\n",
       "<tr>\n",
       "  <th>ma.L1</th>  <td>    0.3301</td> <td>    0.330</td> <td>    0.999</td> <td> 0.318</td> <td>   -0.317</td> <td>    0.978</td>\n",
       "</tr>\n",
       "<tr>\n",
       "  <th>ma.L2</th>  <td>   -0.4971</td> <td>    0.146</td> <td>   -3.401</td> <td> 0.001</td> <td>   -0.784</td> <td>   -0.211</td>\n",
       "</tr>\n",
       "<tr>\n",
       "  <th>ma.L3</th>  <td>   -0.3091</td> <td>    0.189</td> <td>   -1.635</td> <td> 0.102</td> <td>   -0.680</td> <td>    0.062</td>\n",
       "</tr>\n",
       "<tr>\n",
       "  <th>ma.L4</th>  <td>   -0.2832</td> <td>    0.095</td> <td>   -2.986</td> <td> 0.003</td> <td>   -0.469</td> <td>   -0.097</td>\n",
       "</tr>\n",
       "<tr>\n",
       "  <th>sigma2</th> <td> 4.133e+05</td> <td>  2.4e+04</td> <td>   17.231</td> <td> 0.000</td> <td> 3.66e+05</td> <td>  4.6e+05</td>\n",
       "</tr>\n",
       "</table>\n",
       "<table class=\"simpletable\">\n",
       "<tr>\n",
       "  <th>Ljung-Box (L1) (Q):</th>     <td>0.01</td> <th>  Jarque-Bera (JB):  </th> <td>821.11</td>\n",
       "</tr>\n",
       "<tr>\n",
       "  <th>Prob(Q):</th>                <td>0.91</td> <th>  Prob(JB):          </th>  <td>0.00</td> \n",
       "</tr>\n",
       "<tr>\n",
       "  <th>Heteroskedasticity (H):</th> <td>2.87</td> <th>  Skew:              </th>  <td>0.43</td> \n",
       "</tr>\n",
       "<tr>\n",
       "  <th>Prob(H) (two-sided):</th>    <td>0.00</td> <th>  Kurtosis:          </th>  <td>14.71</td>\n",
       "</tr>\n",
       "</table><br/><br/>Warnings:<br/>[1] Covariance matrix calculated using the outer product of gradients (complex-step)."
      ],
      "text/latex": [
       "\\begin{center}\n",
       "\\begin{tabular}{lclc}\n",
       "\\toprule\n",
       "\\textbf{Dep. Variable:}          &        y         & \\textbf{  No. Observations:  } &    144      \\\\\n",
       "\\textbf{Model:}                  & SARIMAX(1, 1, 4) & \\textbf{  Log Likelihood     } & -1128.961   \\\\\n",
       "\\textbf{Date:}                   & Sun, 13 Jul 2025 & \\textbf{  AIC                } &  2269.922   \\\\\n",
       "\\textbf{Time:}                   &     16:58:47     & \\textbf{  BIC                } &  2287.699   \\\\\n",
       "\\textbf{Sample:}                 &    01-02-2017    & \\textbf{  HQIC               } &  2277.146   \\\\\n",
       "\\textbf{}                        &   - 09-30-2019   & \\textbf{                     } &             \\\\\n",
       "\\textbf{Covariance Type:}        &       opg        & \\textbf{                     } &             \\\\\n",
       "\\bottomrule\n",
       "\\end{tabular}\n",
       "\\begin{tabular}{lcccccc}\n",
       "                & \\textbf{coef} & \\textbf{std err} & \\textbf{z} & \\textbf{P$> |$z$|$} & \\textbf{[0.025} & \\textbf{0.975]}  \\\\\n",
       "\\midrule\n",
       "\\textbf{ar.L1}  &      -0.6368  &        0.345     &    -1.844  &         0.065        &       -1.314    &        0.040     \\\\\n",
       "\\textbf{ma.L1}  &       0.3301  &        0.330     &     0.999  &         0.318        &       -0.317    &        0.978     \\\\\n",
       "\\textbf{ma.L2}  &      -0.4971  &        0.146     &    -3.401  &         0.001        &       -0.784    &       -0.211     \\\\\n",
       "\\textbf{ma.L3}  &      -0.3091  &        0.189     &    -1.635  &         0.102        &       -0.680    &        0.062     \\\\\n",
       "\\textbf{ma.L4}  &      -0.2832  &        0.095     &    -2.986  &         0.003        &       -0.469    &       -0.097     \\\\\n",
       "\\textbf{sigma2} &    4.133e+05  &      2.4e+04     &    17.231  &         0.000        &     3.66e+05    &      4.6e+05     \\\\\n",
       "\\bottomrule\n",
       "\\end{tabular}\n",
       "\\begin{tabular}{lclc}\n",
       "\\textbf{Ljung-Box (L1) (Q):}     & 0.01 & \\textbf{  Jarque-Bera (JB):  } & 821.11  \\\\\n",
       "\\textbf{Prob(Q):}                & 0.91 & \\textbf{  Prob(JB):          } &  0.00   \\\\\n",
       "\\textbf{Heteroskedasticity (H):} & 2.87 & \\textbf{  Skew:              } &  0.43   \\\\\n",
       "\\textbf{Prob(H) (two-sided):}    & 0.00 & \\textbf{  Kurtosis:          } & 14.71   \\\\\n",
       "\\bottomrule\n",
       "\\end{tabular}\n",
       "%\\caption{SARIMAX Results}\n",
       "\\end{center}\n",
       "\n",
       "Warnings: \\newline\n",
       " [1] Covariance matrix calculated using the outer product of gradients (complex-step)."
      ],
      "text/plain": [
       "<class 'statsmodels.iolib.summary.Summary'>\n",
       "\"\"\"\n",
       "                               SARIMAX Results                                \n",
       "==============================================================================\n",
       "Dep. Variable:                      y   No. Observations:                  144\n",
       "Model:               SARIMAX(1, 1, 4)   Log Likelihood               -1128.961\n",
       "Date:                Sun, 13 Jul 2025   AIC                           2269.922\n",
       "Time:                        16:58:47   BIC                           2287.699\n",
       "Sample:                    01-02-2017   HQIC                          2277.146\n",
       "                         - 09-30-2019                                         \n",
       "Covariance Type:                  opg                                         \n",
       "==============================================================================\n",
       "                 coef    std err          z      P>|z|      [0.025      0.975]\n",
       "------------------------------------------------------------------------------\n",
       "ar.L1         -0.6368      0.345     -1.844      0.065      -1.314       0.040\n",
       "ma.L1          0.3301      0.330      0.999      0.318      -0.317       0.978\n",
       "ma.L2         -0.4971      0.146     -3.401      0.001      -0.784      -0.211\n",
       "ma.L3         -0.3091      0.189     -1.635      0.102      -0.680       0.062\n",
       "ma.L4         -0.2832      0.095     -2.986      0.003      -0.469      -0.097\n",
       "sigma2      4.133e+05    2.4e+04     17.231      0.000    3.66e+05     4.6e+05\n",
       "===================================================================================\n",
       "Ljung-Box (L1) (Q):                   0.01   Jarque-Bera (JB):               821.11\n",
       "Prob(Q):                              0.91   Prob(JB):                         0.00\n",
       "Heteroskedasticity (H):               2.87   Skew:                             0.43\n",
       "Prob(H) (two-sided):                  0.00   Kurtosis:                        14.71\n",
       "===================================================================================\n",
       "\n",
       "Warnings:\n",
       "[1] Covariance matrix calculated using the outer product of gradients (complex-step).\n",
       "\"\"\""
      ]
     },
     "execution_count": 282,
     "metadata": {},
     "output_type": "execute_result"
    }
   ],
   "source": [
    "# Define target and exogenous variables\n",
    "y_train = train_data[\"sales\"]\n",
    "y_test = test_data[\"sales\"]\n",
    "\n",
    "model_arima = auto_arima(\n",
    "    y_train, # Train target variable\n",
    "    seasonal=True, # Seasonal Set true because data shows weekly seasonality\n",
    "    m=52, # The period for seasonal differencing \"52 weeks\"\n",
    "    stepwise=True, # Auto-Arima model selection to find the best ARIMA parameters\n",
    "    trace=True, #print status on the fits\n",
    "    error_action=\"ignore\" # Ignores errors\n",
    ")\n",
    "\n",
    "# Summary\n",
    "## There's no need to use fit() because Auto-Arima already does it\n",
    "model_arima.summary()"
   ]
  },
  {
   "cell_type": "markdown",
   "id": "6ca239d5-cd52-429c-bd78-f2c4dc3ec93d",
   "metadata": {},
   "source": [
    "#### Forecasting & Plot Forecast vs Actual"
   ]
  },
  {
   "cell_type": "code",
   "execution_count": 284,
   "id": "beb64b06-a0e8-43a8-b82f-d94cac94c603",
   "metadata": {},
   "outputs": [
    {
     "data": {
      "image/png": "[encoded data removed]",
      "text/plain": [
       "<Figure size 1000x400 with 1 Axes>"
      ]
     },
     "metadata": {},
     "output_type": "display_data"
    }
   ],
   "source": [
    "#Forecast the same number of steps as test set\n",
    "n_periods_arima = len(y_test) # 4 weeks\n",
    "forecast_arima = model_arima.predict(n_periods=n_periods_arima)\n",
    "\n",
    "# Plot Forecast vs Actuals\n",
    "plt.figure(figsize=(10, 4))\n",
    "plt.plot(y_train.index, y_train, label=\"Train\")\n",
    "plt.plot(y_test.index, y_test, label=\"Actuals\")\n",
    "plt.plot(y_test.index, forecast_arima, label=\"Forecast_AutoArima\")\n",
    "plt.title(\"Auto ARIMA Forecast vs Actual\")\n",
    "plt.legend()\n",
    "plt.show()"
   ]
  },
  {
   "cell_type": "markdown",
   "id": "d64d1aba-394d-4a8d-bc53-dec863e08fa0",
   "metadata": {},
   "source": [
    "#### Performance"
   ]
  },
  {
   "cell_type": "code",
   "execution_count": 286,
   "id": "686b9e62-7c21-4d2c-9e20-b52f852167b5",
   "metadata": {},
   "outputs": [
    {
     "name": "stdout",
     "output_type": "stream",
     "text": [
      "MAE_AutoARIMA: 3026.37\n",
      "MAPE_AutoARIMA: 13629542898678124544.00\n",
      "AIC_AutoARIMA: 2269.92\n",
      "BIC_AutoARIMA: 2287.70\n"
     ]
    }
   ],
   "source": [
    "actual_values = y_test\n",
    "\n",
    "mae_arima = mean_absolute_error(actual_values, forecast_arima)\n",
    "mape_arima = mean_absolute_percentage_error(actual_values, forecast_arima)\n",
    "\n",
    "\n",
    "print(f\"MAE_AutoARIMA: {mae_arima:.2f}\") # On average the model is off by...\n",
    "print(f\"MAPE_AutoARIMA: {mape_arima:.2f}\") #On percentage how far the model is\n",
    "print(f\"AIC_AutoARIMA: {model_arima.aic():.2f}\") # A measure of model to compare models\n",
    "print(f\"BIC_AutoARIMA: {model_arima.bic():.2f}\") # same as above"
   ]
  },
  {
   "cell_type": "code",
   "execution_count": 287,
   "id": "32b1fa16-2f10-4046-b610-26df3a71a526",
   "metadata": {},
   "outputs": [],
   "source": [
    "#Check if forecasts are different\n",
    "#print(np.allclose(forecast_arimax, forecast_arima))\n",
    "\n",
    "# Output = True, it means that the model is ignoring the exogenousw"
   ]
  },
  {
   "cell_type": "markdown",
   "id": "dde6b62b-e6b4-45f5-a4d0-e91677755b07",
   "metadata": {},
   "source": [
    "#### Fit Auto-ARIMAX Model - Training Data"
   ]
  },
  {
   "cell_type": "code",
   "execution_count": 289,
   "id": "3e746e82-e32d-4230-9539-d3b7b0aa02cf",
   "metadata": {},
   "outputs": [
    {
     "name": "stdout",
     "output_type": "stream",
     "text": [
      "Performing stepwise search to minimize aic\n",
      " ARIMA(2,1,2)(1,0,1)[52] intercept   : AIC=inf, Time=5.26 sec\n",
      " ARIMA(0,1,0)(0,0,0)[52] intercept   : AIC=2285.475, Time=0.01 sec\n",
      " ARIMA(1,1,0)(1,0,0)[52] intercept   : AIC=2284.951, Time=1.12 sec\n",
      " ARIMA(0,1,1)(0,0,1)[52] intercept   : AIC=2283.474, Time=1.15 sec\n",
      " ARIMA(0,1,0)(0,0,0)[52]             : AIC=2283.745, Time=0.02 sec\n",
      " ARIMA(0,1,1)(0,0,0)[52] intercept   : AIC=2282.792, Time=0.04 sec\n",
      " ARIMA(0,1,1)(1,0,0)[52] intercept   : AIC=2283.613, Time=1.05 sec\n",
      " ARIMA(0,1,1)(1,0,1)[52] intercept   : AIC=inf, Time=2.31 sec\n",
      " ARIMA(1,1,1)(0,0,0)[52] intercept   : AIC=inf, Time=0.10 sec\n",
      " ARIMA(0,1,2)(0,0,0)[52] intercept   : AIC=2274.150, Time=0.08 sec\n",
      " ARIMA(0,1,2)(1,0,0)[52] intercept   : AIC=2275.212, Time=2.52 sec\n",
      " ARIMA(0,1,2)(0,0,1)[52] intercept   : AIC=2275.088, Time=3.09 sec\n",
      " ARIMA(0,1,2)(1,0,1)[52] intercept   : AIC=inf, Time=3.35 sec\n",
      " ARIMA(1,1,2)(0,0,0)[52] intercept   : AIC=inf, Time=0.14 sec\n",
      " ARIMA(0,1,3)(0,0,0)[52] intercept   : AIC=2273.467, Time=0.12 sec\n",
      " ARIMA(0,1,3)(1,0,0)[52] intercept   : AIC=2273.617, Time=4.45 sec\n",
      " ARIMA(0,1,3)(0,0,1)[52] intercept   : AIC=2273.408, Time=5.09 sec\n",
      " ARIMA(0,1,3)(1,0,1)[52] intercept   : AIC=inf, Time=7.68 sec\n",
      " ARIMA(0,1,3)(0,0,2)[52] intercept   : AIC=2275.252, Time=140.47 sec\n",
      " ARIMA(0,1,3)(1,0,2)[52] intercept   : AIC=inf, Time=29.27 sec\n",
      " ARIMA(1,1,3)(0,0,1)[52] intercept   : AIC=2277.537, Time=5.16 sec\n",
      " ARIMA(0,1,4)(0,0,1)[52] intercept   : AIC=inf, Time=5.84 sec\n",
      " ARIMA(1,1,2)(0,0,1)[52] intercept   : AIC=inf, Time=4.36 sec\n",
      " ARIMA(1,1,4)(0,0,1)[52] intercept   : AIC=2270.484, Time=7.80 sec\n",
      " ARIMA(1,1,4)(0,0,0)[52] intercept   : AIC=2270.029, Time=0.28 sec\n",
      " ARIMA(1,1,4)(1,0,0)[52] intercept   : AIC=2270.695, Time=6.39 sec\n",
      " ARIMA(1,1,4)(1,0,1)[52] intercept   : AIC=inf, Time=6.97 sec\n",
      " ARIMA(0,1,4)(0,0,0)[52] intercept   : AIC=inf, Time=0.21 sec\n",
      " ARIMA(1,1,3)(0,0,0)[52] intercept   : AIC=2276.316, Time=0.14 sec\n",
      " ARIMA(2,1,4)(0,0,0)[52] intercept   : AIC=2272.039, Time=0.20 sec\n",
      " ARIMA(1,1,5)(0,0,0)[52] intercept   : AIC=2272.305, Time=0.41 sec\n",
      " ARIMA(0,1,5)(0,0,0)[52] intercept   : AIC=2271.618, Time=0.30 sec\n",
      " ARIMA(2,1,3)(0,0,0)[52] intercept   : AIC=inf, Time=0.32 sec\n",
      " ARIMA(2,1,5)(0,0,0)[52] intercept   : AIC=inf, Time=0.31 sec\n",
      " ARIMA(1,1,4)(0,0,0)[52]             : AIC=2269.922, Time=0.12 sec\n",
      " ARIMA(1,1,4)(1,0,0)[52]             : AIC=2270.742, Time=3.65 sec\n",
      " ARIMA(1,1,4)(0,0,1)[52]             : AIC=2270.617, Time=3.57 sec\n",
      " ARIMA(1,1,4)(1,0,1)[52]             : AIC=inf, Time=7.28 sec\n",
      " ARIMA(0,1,4)(0,0,0)[52]             : AIC=2270.559, Time=0.26 sec\n",
      " ARIMA(1,1,3)(0,0,0)[52]             : AIC=2275.280, Time=0.14 sec\n",
      " ARIMA(2,1,4)(0,0,0)[52]             : AIC=2271.906, Time=0.19 sec\n",
      " ARIMA(1,1,5)(0,0,0)[52]             : AIC=2271.914, Time=0.23 sec\n",
      " ARIMA(0,1,3)(0,0,0)[52]             : AIC=2273.028, Time=0.08 sec\n",
      " ARIMA(0,1,5)(0,0,0)[52]             : AIC=2271.470, Time=0.13 sec\n",
      " ARIMA(2,1,3)(0,0,0)[52]             : AIC=2270.924, Time=0.19 sec\n",
      " ARIMA(2,1,5)(0,0,0)[52]             : AIC=2273.992, Time=0.32 sec\n",
      "\n",
      "Best model:  ARIMA(1,1,4)(0,0,0)[52]          \n",
      "Total fit time: 262.257 seconds\n"
     ]
    },
    {
     "data": {
      "text/html": [
       "<table class=\"simpletable\">\n",
       "<caption>SARIMAX Results</caption>\n",
       "<tr>\n",
       "  <th>Dep. Variable:</th>           <td>y</td>        <th>  No. Observations:  </th>    <td>144</td>   \n",
       "</tr>\n",
       "<tr>\n",
       "  <th>Model:</th>           <td>SARIMAX(1, 1, 4)</td> <th>  Log Likelihood     </th> <td>-1128.961</td>\n",
       "</tr>\n",
       "<tr>\n",
       "  <th>Date:</th>            <td>Sun, 13 Jul 2025</td> <th>  AIC                </th> <td>2269.922</td> \n",
       "</tr>\n",
       "<tr>\n",
       "  <th>Time:</th>                <td>17:03:09</td>     <th>  BIC                </th> <td>2287.699</td> \n",
       "</tr>\n",
       "<tr>\n",
       "  <th>Sample:</th>             <td>01-02-2017</td>    <th>  HQIC               </th> <td>2277.146</td> \n",
       "</tr>\n",
       "<tr>\n",
       "  <th></th>                   <td>- 09-30-2019</td>   <th>                     </th>     <td> </td>    \n",
       "</tr>\n",
       "<tr>\n",
       "  <th>Covariance Type:</th>        <td>opg</td>       <th>                     </th>     <td> </td>    \n",
       "</tr>\n",
       "</table>\n",
       "<table class=\"simpletable\">\n",
       "<tr>\n",
       "     <td></td>       <th>coef</th>     <th>std err</th>      <th>z</th>      <th>P>|z|</th>  <th>[0.025</th>    <th>0.975]</th>  \n",
       "</tr>\n",
       "<tr>\n",
       "  <th>ar.L1</th>  <td>   -0.6368</td> <td>    0.345</td> <td>   -1.844</td> <td> 0.065</td> <td>   -1.314</td> <td>    0.040</td>\n",
       "</tr>\n",
       "<tr>\n",
       "  <th>ma.L1</th>  <td>    0.3301</td> <td>    0.330</td> <td>    0.999</td> <td> 0.318</td> <td>   -0.317</td> <td>    0.978</td>\n",
       "</tr>\n",
       "<tr>\n",
       "  <th>ma.L2</th>  <td>   -0.4971</td> <td>    0.146</td> <td>   -3.401</td> <td> 0.001</td> <td>   -0.784</td> <td>   -0.211</td>\n",
       "</tr>\n",
       "<tr>\n",
       "  <th>ma.L3</th>  <td>   -0.3091</td> <td>    0.189</td> <td>   -1.635</td> <td> 0.102</td> <td>   -0.680</td> <td>    0.062</td>\n",
       "</tr>\n",
       "<tr>\n",
       "  <th>ma.L4</th>  <td>   -0.2832</td> <td>    0.095</td> <td>   -2.986</td> <td> 0.003</td> <td>   -0.469</td> <td>   -0.097</td>\n",
       "</tr>\n",
       "<tr>\n",
       "  <th>sigma2</th> <td> 4.133e+05</td> <td>  2.4e+04</td> <td>   17.231</td> <td> 0.000</td> <td> 3.66e+05</td> <td>  4.6e+05</td>\n",
       "</tr>\n",
       "</table>\n",
       "<table class=\"simpletable\">\n",
       "<tr>\n",
       "  <th>Ljung-Box (L1) (Q):</th>     <td>0.01</td> <th>  Jarque-Bera (JB):  </th> <td>821.11</td>\n",
       "</tr>\n",
       "<tr>\n",
       "  <th>Prob(Q):</th>                <td>0.91</td> <th>  Prob(JB):          </th>  <td>0.00</td> \n",
       "</tr>\n",
       "<tr>\n",
       "  <th>Heteroskedasticity (H):</th> <td>2.87</td> <th>  Skew:              </th>  <td>0.43</td> \n",
       "</tr>\n",
       "<tr>\n",
       "  <th>Prob(H) (two-sided):</th>    <td>0.00</td> <th>  Kurtosis:          </th>  <td>14.71</td>\n",
       "</tr>\n",
       "</table><br/><br/>Warnings:<br/>[1] Covariance matrix calculated using the outer product of gradients (complex-step)."
      ],
      "text/latex": [
       "\\begin{center}\n",
       "\\begin{tabular}{lclc}\n",
       "\\toprule\n",
       "\\textbf{Dep. Variable:}          &        y         & \\textbf{  No. Observations:  } &    144      \\\\\n",
       "\\textbf{Model:}                  & SARIMAX(1, 1, 4) & \\textbf{  Log Likelihood     } & -1128.961   \\\\\n",
       "\\textbf{Date:}                   & Sun, 13 Jul 2025 & \\textbf{  AIC                } &  2269.922   \\\\\n",
       "\\textbf{Time:}                   &     17:03:09     & \\textbf{  BIC                } &  2287.699   \\\\\n",
       "\\textbf{Sample:}                 &    01-02-2017    & \\textbf{  HQIC               } &  2277.146   \\\\\n",
       "\\textbf{}                        &   - 09-30-2019   & \\textbf{                     } &             \\\\\n",
       "\\textbf{Covariance Type:}        &       opg        & \\textbf{                     } &             \\\\\n",
       "\\bottomrule\n",
       "\\end{tabular}\n",
       "\\begin{tabular}{lcccccc}\n",
       "                & \\textbf{coef} & \\textbf{std err} & \\textbf{z} & \\textbf{P$> |$z$|$} & \\textbf{[0.025} & \\textbf{0.975]}  \\\\\n",
       "\\midrule\n",
       "\\textbf{ar.L1}  &      -0.6368  &        0.345     &    -1.844  &         0.065        &       -1.314    &        0.040     \\\\\n",
       "\\textbf{ma.L1}  &       0.3301  &        0.330     &     0.999  &         0.318        &       -0.317    &        0.978     \\\\\n",
       "\\textbf{ma.L2}  &      -0.4971  &        0.146     &    -3.401  &         0.001        &       -0.784    &       -0.211     \\\\\n",
       "\\textbf{ma.L3}  &      -0.3091  &        0.189     &    -1.635  &         0.102        &       -0.680    &        0.062     \\\\\n",
       "\\textbf{ma.L4}  &      -0.2832  &        0.095     &    -2.986  &         0.003        &       -0.469    &       -0.097     \\\\\n",
       "\\textbf{sigma2} &    4.133e+05  &      2.4e+04     &    17.231  &         0.000        &     3.66e+05    &      4.6e+05     \\\\\n",
       "\\bottomrule\n",
       "\\end{tabular}\n",
       "\\begin{tabular}{lclc}\n",
       "\\textbf{Ljung-Box (L1) (Q):}     & 0.01 & \\textbf{  Jarque-Bera (JB):  } & 821.11  \\\\\n",
       "\\textbf{Prob(Q):}                & 0.91 & \\textbf{  Prob(JB):          } &  0.00   \\\\\n",
       "\\textbf{Heteroskedasticity (H):} & 2.87 & \\textbf{  Skew:              } &  0.43   \\\\\n",
       "\\textbf{Prob(H) (two-sided):}    & 0.00 & \\textbf{  Kurtosis:          } & 14.71   \\\\\n",
       "\\bottomrule\n",
       "\\end{tabular}\n",
       "%\\caption{SARIMAX Results}\n",
       "\\end{center}\n",
       "\n",
       "Warnings: \\newline\n",
       " [1] Covariance matrix calculated using the outer product of gradients (complex-step)."
      ],
      "text/plain": [
       "<class 'statsmodels.iolib.summary.Summary'>\n",
       "\"\"\"\n",
       "                               SARIMAX Results                                \n",
       "==============================================================================\n",
       "Dep. Variable:                      y   No. Observations:                  144\n",
       "Model:               SARIMAX(1, 1, 4)   Log Likelihood               -1128.961\n",
       "Date:                Sun, 13 Jul 2025   AIC                           2269.922\n",
       "Time:                        17:03:09   BIC                           2287.699\n",
       "Sample:                    01-02-2017   HQIC                          2277.146\n",
       "                         - 09-30-2019                                         \n",
       "Covariance Type:                  opg                                         \n",
       "==============================================================================\n",
       "                 coef    std err          z      P>|z|      [0.025      0.975]\n",
       "------------------------------------------------------------------------------\n",
       "ar.L1         -0.6368      0.345     -1.844      0.065      -1.314       0.040\n",
       "ma.L1          0.3301      0.330      0.999      0.318      -0.317       0.978\n",
       "ma.L2         -0.4971      0.146     -3.401      0.001      -0.784      -0.211\n",
       "ma.L3         -0.3091      0.189     -1.635      0.102      -0.680       0.062\n",
       "ma.L4         -0.2832      0.095     -2.986      0.003      -0.469      -0.097\n",
       "sigma2      4.133e+05    2.4e+04     17.231      0.000    3.66e+05     4.6e+05\n",
       "===================================================================================\n",
       "Ljung-Box (L1) (Q):                   0.01   Jarque-Bera (JB):               821.11\n",
       "Prob(Q):                              0.91   Prob(JB):                         0.00\n",
       "Heteroskedasticity (H):               2.87   Skew:                             0.43\n",
       "Prob(H) (two-sided):                  0.00   Kurtosis:                        14.71\n",
       "===================================================================================\n",
       "\n",
       "Warnings:\n",
       "[1] Covariance matrix calculated using the outer product of gradients (complex-step).\n",
       "\"\"\""
      ]
     },
     "execution_count": 289,
     "metadata": {},
     "output_type": "execute_result"
    }
   ],
   "source": [
    "# Creation of exogenous columns\n",
    "\n",
    "exog_cols = [\"stock\",\n",
    "             \"promo_bin_1\", \n",
    "             \"promo_bin_2\",\n",
    "             \"price\",\n",
    "             \"n_unique_products\",\n",
    "             \"store_size\",\n",
    "             \"week_number\",\n",
    "            \"month\",\n",
    "             \"year\"\n",
    "            ]\n",
    "\n",
    "# Define target and exogenous variables\n",
    "y_train = train_data[\"sales\"]\n",
    "y_test = test_data[\"sales\"]\n",
    "\n",
    "\n",
    "X_train = train_data[exog_cols]\n",
    "X_test = test_data[exog_cols]\n",
    "\n",
    "# Ensure all exogenous variables are float or int (no UInt32, no objects)\n",
    "X_train = X_train.astype(\"float64\")\n",
    "X_test = X_test.astype(\"float64\")\n",
    "\n",
    "model_arimax = auto_arima(\n",
    "    y=y_train, # Train target variable\n",
    "    exogenous = X_train, # exo variables to insert in the model \n",
    "    seasonal=True, # Seasonal Set true because data shows weekly seasonality\n",
    "    m=52, # The period for seasonal differencing \"52 weeks\"\n",
    "    stepwise=True, # Auto-Arima model selection to find the best ARIMA parameters\n",
    "    trace=True, #print status on the fits\n",
    "    error_action=\"ignore\" # Ignores errors\n",
    ")\n",
    "\n",
    "# Summary\n",
    "## There's no need to use fit() because Auto-Arima already does it\n",
    "model_arimax.summary()"
   ]
  },
  {
   "cell_type": "markdown",
   "id": "6a120203-4dc9-417c-b736-8dca1308daaa",
   "metadata": {},
   "source": [
    "#### Forecasting & Plot Forecast vs Actual"
   ]
  },
  {
   "cell_type": "code",
   "execution_count": 291,
   "id": "af2ca687-b579-4672-bd40-1845970b64ce",
   "metadata": {
    "scrolled": true
   },
   "outputs": [
    {
     "data": {
      "image/png": "[encoded data removed]",
      "text/plain": [
       "<Figure size 1000x400 with 1 Axes>"
      ]
     },
     "metadata": {},
     "output_type": "display_data"
    }
   ],
   "source": [
    "#Forecast the same number of steps as test set\n",
    "n_periods_arimax = len(y_test) # 4 weeks\n",
    "forecast_arimax, conf_int_arimax = model_arimax.predict(\n",
    "    n_periods=n_periods_arimax,\n",
    "    exogenous=X_test,\n",
    "    return_conf_int=True\n",
    ")\n",
    "\n",
    "# Plot Forecast vs Actuals\n",
    "plt.figure(figsize=(10, 4))\n",
    "plt.plot(y_train.index, y_train, label=\"Train\")\n",
    "plt.plot(y_test.index, y_test, label=\"Actuals\")\n",
    "plt.plot(y_test.index, forecast_arimax, label=\"Forecast AutoArimax\")  # <-- esta linha dava erro antes\n",
    "plt.fill_between(y_test.index, conf_int_arimax[:, 0], conf_int_arimax[:, 1], color=\"lightblue\", alpha=0.4)\n",
    "plt.title(\"Auto-ARIMAX Forecast vs Actual\")\n",
    "plt.legend()\n",
    "plt.show()"
   ]
  },
  {
   "cell_type": "markdown",
   "id": "90daf231-0c52-458c-8989-114a14cdb555",
   "metadata": {},
   "source": [
    "#### Performance"
   ]
  },
  {
   "cell_type": "code",
   "execution_count": 293,
   "id": "72be20c6-ce02-4f72-841d-4d370b74979f",
   "metadata": {},
   "outputs": [
    {
     "name": "stdout",
     "output_type": "stream",
     "text": [
      "MAE_AutoARIMAX: 3026.37\n",
      "MAPE_AutoARIMAX: 13629542898678124544.00\n",
      "AIC_AutoARIMAX: 2269.92\n",
      "BIC_AutoARIMAX: 2287.70\n"
     ]
    }
   ],
   "source": [
    "actual_values = y_test\n",
    "\n",
    "mae_arimax = mean_absolute_error(actual_values, forecast_arimax)\n",
    "mape_arimax = mean_absolute_percentage_error(actual_values, forecast_arimax)\n",
    "\n",
    "\n",
    "print(f\"MAE_AutoARIMAX: {mae_arimax:.2f}\") # On average the model is off by...\n",
    "print(f\"MAPE_AutoARIMAX: {mape_arimax:.2f}\") #On percentage how far the model is\n",
    "print(f\"AIC_AutoARIMAX: {model_arimax.aic():.2f}\") # A measure of model to compare models\n",
    "print(f\"BIC_AutoARIMAX: {model_arimax.bic():.2f}\") # same as above"
   ]
  },
  {
   "cell_type": "code",
   "execution_count": null,
   "id": "4934121f-b489-4f60-ade6-4c02583bb4cd",
   "metadata": {},
   "outputs": [],
   "source": []
  },
  {
   "cell_type": "markdown",
   "id": "74a42030-c248-40cd-8ec5-4213398c1242",
   "metadata": {},
   "source": [
    "#### Feature Importance"
   ]
  },
  {
   "cell_type": "code",
   "execution_count": 295,
   "id": "50475669-4a0e-40db-a628-0632d511965f",
   "metadata": {
    "scrolled": true
   },
   "outputs": [
    {
     "data": {
      "text/plain": [
       "sales                1.000000\n",
       "stock                0.824883\n",
       "promo_bin_1         -0.159549\n",
       "month               -0.180511\n",
       "week_number         -0.215074\n",
       "promo_bin_2         -0.388389\n",
       "n_unique_products   -0.424234\n",
       "year                -0.437475\n",
       "price               -0.460115\n",
       "store_size          -0.486761\n",
       "Name: sales, dtype: float64"
      ]
     },
     "execution_count": 295,
     "metadata": {},
     "output_type": "execute_result"
    }
   ],
   "source": [
    "# Checking correlations:\n",
    "df_h00_model.corr()[\"sales\"].sort_values(ascending=False)\n",
    "## Correlation values shows that stock is positively correlated with sales- (stockouts hurt performance\n",
    "## Price, store_size and time variables are negatively correlated\n",
    "## Promotions have low to moderate negative correlations - maybe because of they are binary and sporadic"
   ]
  },
  {
   "cell_type": "markdown",
   "id": "e991c56e-de86-4178-8a1f-a2fe982f4bd9",
   "metadata": {},
   "source": [
    "Let's test our ARIMAX model with other features!!!"
   ]
  },
  {
   "cell_type": "markdown",
   "id": "adf53b06-c42a-435d-a7d8-5c69fdd6eaaa",
   "metadata": {},
   "source": [
    "### Auto-ARIMA[\"stock\"]"
   ]
  },
  {
   "cell_type": "code",
   "execution_count": 298,
   "id": "71dd83c7-52a0-43f0-a7eb-f26918139160",
   "metadata": {
    "jupyter": {
     "source_hidden": true
    },
    "scrolled": true
   },
   "outputs": [
    {
     "name": "stdout",
     "output_type": "stream",
     "text": [
      "Performing stepwise search to minimize aic\n",
      " ARIMA(2,1,2)(0,0,0)[0] intercept   : AIC=inf, Time=0.14 sec\n",
      " ARIMA(0,1,0)(0,0,0)[0] intercept   : AIC=2285.475, Time=0.01 sec\n",
      " ARIMA(1,1,0)(0,0,0)[0] intercept   : AIC=2284.627, Time=0.01 sec\n",
      " ARIMA(0,1,1)(0,0,0)[0] intercept   : AIC=2282.792, Time=0.03 sec\n",
      " ARIMA(0,1,0)(0,0,0)[0]             : AIC=2283.745, Time=0.01 sec\n",
      " ARIMA(1,1,1)(0,0,0)[0] intercept   : AIC=inf, Time=0.07 sec\n",
      " ARIMA(0,1,2)(0,0,0)[0] intercept   : AIC=2274.150, Time=0.07 sec\n",
      " ARIMA(1,1,2)(0,0,0)[0] intercept   : AIC=inf, Time=0.09 sec\n",
      " ARIMA(0,1,3)(0,0,0)[0] intercept   : AIC=2273.467, Time=0.09 sec\n",
      " ARIMA(1,1,3)(0,0,0)[0] intercept   : AIC=2276.316, Time=0.11 sec\n",
      " ARIMA(0,1,4)(0,0,0)[0] intercept   : AIC=inf, Time=0.16 sec\n",
      " ARIMA(1,1,4)(0,0,0)[0] intercept   : AIC=2270.029, Time=0.20 sec\n",
      " ARIMA(2,1,4)(0,0,0)[0] intercept   : AIC=2272.039, Time=0.19 sec\n",
      " ARIMA(1,1,5)(0,0,0)[0] intercept   : AIC=2272.305, Time=0.28 sec\n",
      " ARIMA(0,1,5)(0,0,0)[0] intercept   : AIC=2271.618, Time=0.23 sec\n",
      " ARIMA(2,1,3)(0,0,0)[0] intercept   : AIC=inf, Time=0.18 sec\n",
      " ARIMA(2,1,5)(0,0,0)[0] intercept   : AIC=inf, Time=0.28 sec\n",
      " ARIMA(1,1,4)(0,0,0)[0]             : AIC=2269.922, Time=0.11 sec\n",
      " ARIMA(0,1,4)(0,0,0)[0]             : AIC=2270.559, Time=0.07 sec\n",
      " ARIMA(1,1,3)(0,0,0)[0]             : AIC=2275.280, Time=0.09 sec\n",
      " ARIMA(2,1,4)(0,0,0)[0]             : AIC=2271.906, Time=0.13 sec\n",
      " ARIMA(1,1,5)(0,0,0)[0]             : AIC=2271.914, Time=0.16 sec\n",
      " ARIMA(0,1,3)(0,0,0)[0]             : AIC=2273.028, Time=0.08 sec\n",
      " ARIMA(0,1,5)(0,0,0)[0]             : AIC=2271.470, Time=0.10 sec\n",
      " ARIMA(2,1,3)(0,0,0)[0]             : AIC=2270.924, Time=0.11 sec\n",
      " ARIMA(2,1,5)(0,0,0)[0]             : AIC=2273.992, Time=0.24 sec\n",
      "\n",
      "Best model:  ARIMA(1,1,4)(0,0,0)[0]          \n",
      "Total fit time: 3.280 seconds\n"
     ]
    }
   ],
   "source": [
    "model_arimax_stock = auto_arima(\n",
    "    y_train,\n",
    "    exogenous=X_train[\"stock\"],\n",
    "    seasonal=True,\n",
    "    stepwise=True,\n",
    "    trace=True\n",
    ")\n",
    "forecast_arimax_stock = model_arimax_stock.predict(\n",
    "    n_periods=len(y_test),\n",
    "    exogenous=X_test[\"stock\"]\n",
    ")"
   ]
  },
  {
   "cell_type": "code",
   "execution_count": 299,
   "id": "270d4a01-7c83-4175-9388-2f424e5f4a4f",
   "metadata": {},
   "outputs": [
    {
     "name": "stdout",
     "output_type": "stream",
     "text": [
      "MAE_AutoARIMAX_stock: 3026.37\n",
      "MAPE_AutoARIMAX_stock: 13629542898678124544.00\n",
      "AIC_AutoARIMAX_stock: 2269.92\n",
      "BIC_AutoARIMAX_stock: 2287.70\n"
     ]
    }
   ],
   "source": [
    "mae_arimax_stock = mean_absolute_error(y_test, forecast_arimax_stock)\n",
    "mape_arimax_stock = mean_absolute_percentage_error(y_test, forecast_arimax_stock)\n",
    "\n",
    "\n",
    "print(f\"MAE_AutoARIMAX_stock: {mae_arimax_stock:.2f}\") # On average the model is off by...\n",
    "print(f\"MAPE_AutoARIMAX_stock: {mape_arimax_stock:.2f}\") #On percentage how far the model is\n",
    "print(f\"AIC_AutoARIMAX_stock: {model_arimax_stock.aic():.2f}\") # A measure of model to compare models\n",
    "print(f\"BIC_AutoARIMAX_stock: {model_arimax_stock.bic():.2f}\") # same as above"
   ]
  },
  {
   "cell_type": "code",
   "execution_count": null,
   "id": "d5b6563c-2091-4398-92e3-a69bdfe24828",
   "metadata": {},
   "outputs": [],
   "source": []
  },
  {
   "cell_type": "markdown",
   "id": "d74f8399-d2b3-43f0-a3be-c534c0dfc16f",
   "metadata": {
    "jp-MarkdownHeadingCollapsed": true
   },
   "source": [
    "### Auto-ARIMA[\"stock\", \"price\"]"
   ]
  },
  {
   "cell_type": "code",
   "execution_count": 301,
   "id": "9e3d50b4-4bb9-4620-b1bc-7fb7ac3b14d9",
   "metadata": {},
   "outputs": [
    {
     "name": "stdout",
     "output_type": "stream",
     "text": [
      "Performing stepwise search to minimize aic\n",
      " ARIMA(2,1,2)(0,0,0)[0] intercept   : AIC=inf, Time=0.18 sec\n",
      " ARIMA(0,1,0)(0,0,0)[0] intercept   : AIC=2285.475, Time=0.02 sec\n",
      " ARIMA(1,1,0)(0,0,0)[0] intercept   : AIC=2284.627, Time=0.01 sec\n",
      " ARIMA(0,1,1)(0,0,0)[0] intercept   : AIC=2282.792, Time=0.03 sec\n",
      " ARIMA(0,1,0)(0,0,0)[0]             : AIC=2283.745, Time=0.01 sec\n",
      " ARIMA(1,1,1)(0,0,0)[0] intercept   : AIC=inf, Time=0.07 sec\n",
      " ARIMA(0,1,2)(0,0,0)[0] intercept   : AIC=2274.150, Time=0.07 sec\n",
      " ARIMA(1,1,2)(0,0,0)[0] intercept   : AIC=inf, Time=0.09 sec\n",
      " ARIMA(0,1,3)(0,0,0)[0] intercept   : AIC=2273.467, Time=0.09 sec\n",
      " ARIMA(1,1,3)(0,0,0)[0] intercept   : AIC=2276.316, Time=0.12 sec\n",
      " ARIMA(0,1,4)(0,0,0)[0] intercept   : AIC=inf, Time=0.17 sec\n",
      " ARIMA(1,1,4)(0,0,0)[0] intercept   : AIC=2270.029, Time=0.22 sec\n",
      " ARIMA(2,1,4)(0,0,0)[0] intercept   : AIC=2272.039, Time=0.18 sec\n",
      " ARIMA(1,1,5)(0,0,0)[0] intercept   : AIC=2272.305, Time=0.25 sec\n",
      " ARIMA(0,1,5)(0,0,0)[0] intercept   : AIC=2271.618, Time=0.20 sec\n",
      " ARIMA(2,1,3)(0,0,0)[0] intercept   : AIC=inf, Time=0.18 sec\n",
      " ARIMA(2,1,5)(0,0,0)[0] intercept   : AIC=inf, Time=0.26 sec\n",
      " ARIMA(1,1,4)(0,0,0)[0]             : AIC=2269.922, Time=0.11 sec\n",
      " ARIMA(0,1,4)(0,0,0)[0]             : AIC=2270.559, Time=0.07 sec\n",
      " ARIMA(1,1,3)(0,0,0)[0]             : AIC=2275.280, Time=0.09 sec\n",
      " ARIMA(2,1,4)(0,0,0)[0]             : AIC=2271.906, Time=0.12 sec\n",
      " ARIMA(1,1,5)(0,0,0)[0]             : AIC=2271.914, Time=0.18 sec\n",
      " ARIMA(0,1,3)(0,0,0)[0]             : AIC=2273.028, Time=0.07 sec\n",
      " ARIMA(0,1,5)(0,0,0)[0]             : AIC=2271.470, Time=0.10 sec\n",
      " ARIMA(2,1,3)(0,0,0)[0]             : AIC=2270.924, Time=0.11 sec\n",
      " ARIMA(2,1,5)(0,0,0)[0]             : AIC=2273.992, Time=0.24 sec\n",
      "\n",
      "Best model:  ARIMA(1,1,4)(0,0,0)[0]          \n",
      "Total fit time: 3.242 seconds\n"
     ]
    }
   ],
   "source": [
    "model_arimax_stock_price = auto_arima(\n",
    "    y_train,\n",
    "    exogenous=X_train[[\"stock\", \"price\"]],\n",
    "    seasonal=True,\n",
    "    stepwise=True,\n",
    "    trace=True\n",
    ")\n",
    "forecast_arimax_stock_price = model_arimax_stock_price.predict(\n",
    "    n_periods=len(y_test),\n",
    "    exogenous=X_test[[\"stock\", \"price\"]]\n",
    ")"
   ]
  },
  {
   "cell_type": "code",
   "execution_count": 302,
   "id": "73f46d0c-d18c-404b-aa88-3af94885fc08",
   "metadata": {
    "scrolled": true
   },
   "outputs": [
    {
     "name": "stdout",
     "output_type": "stream",
     "text": [
      "MAE_AutoARIMAX_stock_price: 3026.37\n",
      "MAPE_AutoARIMAX_stock_price: 13629542898678124544.00\n",
      "AIC_AutoARIMAX_stock_price: 2269.92\n",
      "BIC_AutoARIMAX_stock_price: 2287.70\n"
     ]
    }
   ],
   "source": [
    "mae_arimax_stock_price = mean_absolute_error(y_test, forecast_arimax_stock_price)\n",
    "mape_arimax_stock_price = mean_absolute_percentage_error(y_test, forecast_arimax_stock_price)\n",
    "\n",
    "\n",
    "print(f\"MAE_AutoARIMAX_stock_price: {mae_arimax_stock_price:.2f}\") # On average the model is off by...\n",
    "print(f\"MAPE_AutoARIMAX_stock_price: {mape_arimax_stock_price:.2f}\") #On percentage how far the model is\n",
    "print(f\"AIC_AutoARIMAX_stock_price: {model_arimax_stock_price.aic():.2f}\") # A measure of model to compare models\n",
    "print(f\"BIC_AutoARIMAX_stock_price: {model_arimax_stock_price.bic():.2f}\") # same as above"
   ]
  },
  {
   "cell_type": "markdown",
   "id": "8205dee2-fc0b-4b87-bfac-f55b56fd530f",
   "metadata": {},
   "source": [
    "### Auto-ARIMA-TopFeatures"
   ]
  },
  {
   "cell_type": "code",
   "execution_count": 304,
   "id": "cdcc7284-a8ad-40df-bb19-d06a26050ad8",
   "metadata": {
    "scrolled": true
   },
   "outputs": [
    {
     "name": "stdout",
     "output_type": "stream",
     "text": [
      "Performing stepwise search to minimize aic\n",
      " ARIMA(2,1,2)(0,0,0)[0] intercept   : AIC=inf, Time=0.17 sec\n",
      " ARIMA(0,1,0)(0,0,0)[0] intercept   : AIC=2285.475, Time=0.02 sec\n",
      " ARIMA(1,1,0)(0,0,0)[0] intercept   : AIC=2284.627, Time=0.01 sec\n",
      " ARIMA(0,1,1)(0,0,0)[0] intercept   : AIC=2282.792, Time=0.03 sec\n",
      " ARIMA(0,1,0)(0,0,0)[0]             : AIC=2283.745, Time=0.01 sec\n",
      " ARIMA(1,1,1)(0,0,0)[0] intercept   : AIC=inf, Time=0.07 sec\n",
      " ARIMA(0,1,2)(0,0,0)[0] intercept   : AIC=2274.150, Time=0.07 sec\n",
      " ARIMA(1,1,2)(0,0,0)[0] intercept   : AIC=inf, Time=0.09 sec\n",
      " ARIMA(0,1,3)(0,0,0)[0] intercept   : AIC=2273.467, Time=0.09 sec\n",
      " ARIMA(1,1,3)(0,0,0)[0] intercept   : AIC=2276.316, Time=0.11 sec\n",
      " ARIMA(0,1,4)(0,0,0)[0] intercept   : AIC=inf, Time=0.15 sec\n",
      " ARIMA(1,1,4)(0,0,0)[0] intercept   : AIC=2270.029, Time=0.19 sec\n",
      " ARIMA(2,1,4)(0,0,0)[0] intercept   : AIC=2272.039, Time=0.18 sec\n",
      " ARIMA(1,1,5)(0,0,0)[0] intercept   : AIC=2272.305, Time=0.24 sec\n",
      " ARIMA(0,1,5)(0,0,0)[0] intercept   : AIC=2271.618, Time=0.22 sec\n",
      " ARIMA(2,1,3)(0,0,0)[0] intercept   : AIC=inf, Time=0.17 sec\n",
      " ARIMA(2,1,5)(0,0,0)[0] intercept   : AIC=inf, Time=0.24 sec\n",
      " ARIMA(1,1,4)(0,0,0)[0]             : AIC=2269.922, Time=0.11 sec\n",
      " ARIMA(0,1,4)(0,0,0)[0]             : AIC=2270.559, Time=0.07 sec\n",
      " ARIMA(1,1,3)(0,0,0)[0]             : AIC=2275.280, Time=0.10 sec\n",
      " ARIMA(2,1,4)(0,0,0)[0]             : AIC=2271.906, Time=0.12 sec\n",
      " ARIMA(1,1,5)(0,0,0)[0]             : AIC=2271.914, Time=0.15 sec\n",
      " ARIMA(0,1,3)(0,0,0)[0]             : AIC=2273.028, Time=0.06 sec\n",
      " ARIMA(0,1,5)(0,0,0)[0]             : AIC=2271.470, Time=0.09 sec\n",
      " ARIMA(2,1,3)(0,0,0)[0]             : AIC=2270.924, Time=0.11 sec\n",
      " ARIMA(2,1,5)(0,0,0)[0]             : AIC=2273.992, Time=0.24 sec\n",
      "\n",
      "Best model:  ARIMA(1,1,4)(0,0,0)[0]          \n",
      "Total fit time: 3.114 seconds\n"
     ]
    }
   ],
   "source": [
    "model_arimax_topfeatures = auto_arima(\n",
    "    y_train,\n",
    "    exogenous=X_train[[\"stock\", \"price\", \"store_size\", \"year\", \"n_unique_products\"]],\n",
    "    seasonal=True,\n",
    "    stepwise=True,\n",
    "    trace=True\n",
    ")\n",
    "forecast_arimax_topfeatures = model_arimax_topfeatures.predict(\n",
    "    n_periods=len(y_test),\n",
    "    exogenous=X_test[[\"stock\", \"price\", \"store_size\", \"year\", \"n_unique_products\"]]\n",
    ")"
   ]
  },
  {
   "cell_type": "code",
   "execution_count": 305,
   "id": "2641cd51-3e3a-4950-8f32-8812a80e9cc7",
   "metadata": {},
   "outputs": [
    {
     "name": "stdout",
     "output_type": "stream",
     "text": [
      "MAE_AutoARIMAX_topfeatures: 3026.37\n",
      "MAPE_AutoARIMAX_topfeatures: 13629542898678124544.00\n",
      "AIC_AutoARIMAX_topfeatures: 2269.92\n",
      "BIC_AutoARIMAX_topfeatures: 2287.70\n"
     ]
    }
   ],
   "source": [
    "mae_arimax_topfeatures = mean_absolute_error(y_test, forecast_arimax_topfeatures)\n",
    "mape_arimax_topfeatures = mean_absolute_percentage_error(y_test, forecast_arimax_topfeatures)\n",
    "\n",
    "\n",
    "print(f\"MAE_AutoARIMAX_topfeatures: {mae_arimax_topfeatures:.2f}\") # On average the model is off by...\n",
    "print(f\"MAPE_AutoARIMAX_topfeatures: {mape_arimax_topfeatures:.2f}\") #On percentage how far the model is\n",
    "print(f\"AIC_AutoARIMAX_topfeatures: {model_arimax_topfeatures.aic():.2f}\") # A measure of model to compare models\n",
    "print(f\"BIC_AutoARIMAX_topfeatures: {model_arimax_topfeatures.bic():.2f}\") # same as above"
   ]
  },
  {
   "cell_type": "markdown",
   "id": "a9850abc-3094-4efc-8c16-e5403dcf32f6",
   "metadata": {
    "jp-MarkdownHeadingCollapsed": true
   },
   "source": [
    "### Linear Regression"
   ]
  },
  {
   "cell_type": "code",
   "execution_count": 307,
   "id": "755fd33b-f0b2-4612-9c47-a6acf99b934e",
   "metadata": {},
   "outputs": [
    {
     "ename": "ValueError",
     "evalue": "The feature names should match those that were passed during fit.\nFeature names unseen at fit time:\n- month\n- n_unique_products\n- promo_bin_1\n- promo_bin_2\n- store_size\n- ...\n",
     "output_type": "error",
     "traceback": [
      "\u001b[0;31m---------------------------------------------------------------------------\u001b[0m",
      "\u001b[0;31mValueError\u001b[0m                                Traceback (most recent call last)",
      "Cell \u001b[0;32mIn[307], line 3\u001b[0m\n\u001b[1;32m      1\u001b[0m lr_stock_price \u001b[38;5;241m=\u001b[39m LinearRegression()\n\u001b[1;32m      2\u001b[0m lr_stock_price\u001b[38;5;241m.\u001b[39mfit(X_train[[\u001b[38;5;124m\"\u001b[39m\u001b[38;5;124mstock\u001b[39m\u001b[38;5;124m\"\u001b[39m, \u001b[38;5;124m\"\u001b[39m\u001b[38;5;124mprice\u001b[39m\u001b[38;5;124m\"\u001b[39m]], y_train)\n\u001b[0;32m----> 3\u001b[0m y_pred_lr_stock_price \u001b[38;5;241m=\u001b[39m lr_stock_price\u001b[38;5;241m.\u001b[39mpredict(X_test)\n\u001b[1;32m      4\u001b[0m \u001b[38;5;28mprint\u001b[39m(\u001b[38;5;124m\"\u001b[39m\u001b[38;5;124mLinear Regression STOCK, PRICE variables\u001b[39m\u001b[38;5;130;01m\\n\u001b[39;00m\u001b[38;5;124m\"\u001b[39m)\n\u001b[1;32m      5\u001b[0m \u001b[38;5;28mprint\u001b[39m(\u001b[38;5;124mf\u001b[39m\u001b[38;5;124m\"\u001b[39m\u001b[38;5;124mMAE LinearRegression: \u001b[39m\u001b[38;5;132;01m{\u001b[39;00mmean_absolute_error(y_test,\u001b[38;5;250m \u001b[39my_pred_lr_stock_price)\u001b[38;5;132;01m:\u001b[39;00m\u001b[38;5;124m.2f\u001b[39m\u001b[38;5;132;01m}\u001b[39;00m\u001b[38;5;124m\"\u001b[39m)\n",
      "File \u001b[0;32m/opt/anaconda3/lib/python3.12/site-packages/sklearn/linear_model/_base.py:286\u001b[0m, in \u001b[0;36mLinearModel.predict\u001b[0;34m(self, X)\u001b[0m\n\u001b[1;32m    272\u001b[0m \u001b[38;5;28;01mdef\u001b[39;00m \u001b[38;5;21mpredict\u001b[39m(\u001b[38;5;28mself\u001b[39m, X):\n\u001b[1;32m    273\u001b[0m \u001b[38;5;250m    \u001b[39m\u001b[38;5;124;03m\"\"\"\u001b[39;00m\n\u001b[1;32m    274\u001b[0m \u001b[38;5;124;03m    Predict using the linear model.\u001b[39;00m\n\u001b[1;32m    275\u001b[0m \n\u001b[0;32m   (...)\u001b[0m\n\u001b[1;32m    284\u001b[0m \u001b[38;5;124;03m        Returns predicted values.\u001b[39;00m\n\u001b[1;32m    285\u001b[0m \u001b[38;5;124;03m    \"\"\"\u001b[39;00m\n\u001b[0;32m--> 286\u001b[0m     \u001b[38;5;28;01mreturn\u001b[39;00m \u001b[38;5;28mself\u001b[39m\u001b[38;5;241m.\u001b[39m_decision_function(X)\n",
      "File \u001b[0;32m/opt/anaconda3/lib/python3.12/site-packages/sklearn/linear_model/_base.py:269\u001b[0m, in \u001b[0;36mLinearModel._decision_function\u001b[0;34m(self, X)\u001b[0m\n\u001b[1;32m    266\u001b[0m \u001b[38;5;28;01mdef\u001b[39;00m \u001b[38;5;21m_decision_function\u001b[39m(\u001b[38;5;28mself\u001b[39m, X):\n\u001b[1;32m    267\u001b[0m     check_is_fitted(\u001b[38;5;28mself\u001b[39m)\n\u001b[0;32m--> 269\u001b[0m     X \u001b[38;5;241m=\u001b[39m \u001b[38;5;28mself\u001b[39m\u001b[38;5;241m.\u001b[39m_validate_data(X, accept_sparse\u001b[38;5;241m=\u001b[39m[\u001b[38;5;124m\"\u001b[39m\u001b[38;5;124mcsr\u001b[39m\u001b[38;5;124m\"\u001b[39m, \u001b[38;5;124m\"\u001b[39m\u001b[38;5;124mcsc\u001b[39m\u001b[38;5;124m\"\u001b[39m, \u001b[38;5;124m\"\u001b[39m\u001b[38;5;124mcoo\u001b[39m\u001b[38;5;124m\"\u001b[39m], reset\u001b[38;5;241m=\u001b[39m\u001b[38;5;28;01mFalse\u001b[39;00m)\n\u001b[1;32m    270\u001b[0m     \u001b[38;5;28;01mreturn\u001b[39;00m safe_sparse_dot(X, \u001b[38;5;28mself\u001b[39m\u001b[38;5;241m.\u001b[39mcoef_\u001b[38;5;241m.\u001b[39mT, dense_output\u001b[38;5;241m=\u001b[39m\u001b[38;5;28;01mTrue\u001b[39;00m) \u001b[38;5;241m+\u001b[39m \u001b[38;5;28mself\u001b[39m\u001b[38;5;241m.\u001b[39mintercept_\n",
      "File \u001b[0;32m/opt/anaconda3/lib/python3.12/site-packages/sklearn/base.py:608\u001b[0m, in \u001b[0;36mBaseEstimator._validate_data\u001b[0;34m(self, X, y, reset, validate_separately, cast_to_ndarray, **check_params)\u001b[0m\n\u001b[1;32m    537\u001b[0m \u001b[38;5;28;01mdef\u001b[39;00m \u001b[38;5;21m_validate_data\u001b[39m(\n\u001b[1;32m    538\u001b[0m     \u001b[38;5;28mself\u001b[39m,\n\u001b[1;32m    539\u001b[0m     X\u001b[38;5;241m=\u001b[39m\u001b[38;5;124m\"\u001b[39m\u001b[38;5;124mno_validation\u001b[39m\u001b[38;5;124m\"\u001b[39m,\n\u001b[0;32m   (...)\u001b[0m\n\u001b[1;32m    544\u001b[0m     \u001b[38;5;241m*\u001b[39m\u001b[38;5;241m*\u001b[39mcheck_params,\n\u001b[1;32m    545\u001b[0m ):\n\u001b[1;32m    546\u001b[0m \u001b[38;5;250m    \u001b[39m\u001b[38;5;124;03m\"\"\"Validate input data and set or check the `n_features_in_` attribute.\u001b[39;00m\n\u001b[1;32m    547\u001b[0m \n\u001b[1;32m    548\u001b[0m \u001b[38;5;124;03m    Parameters\u001b[39;00m\n\u001b[0;32m   (...)\u001b[0m\n\u001b[1;32m    606\u001b[0m \u001b[38;5;124;03m        validated.\u001b[39;00m\n\u001b[1;32m    607\u001b[0m \u001b[38;5;124;03m    \"\"\"\u001b[39;00m\n\u001b[0;32m--> 608\u001b[0m     \u001b[38;5;28mself\u001b[39m\u001b[38;5;241m.\u001b[39m_check_feature_names(X, reset\u001b[38;5;241m=\u001b[39mreset)\n\u001b[1;32m    610\u001b[0m     \u001b[38;5;28;01mif\u001b[39;00m y \u001b[38;5;129;01mis\u001b[39;00m \u001b[38;5;28;01mNone\u001b[39;00m \u001b[38;5;129;01mand\u001b[39;00m \u001b[38;5;28mself\u001b[39m\u001b[38;5;241m.\u001b[39m_get_tags()[\u001b[38;5;124m\"\u001b[39m\u001b[38;5;124mrequires_y\u001b[39m\u001b[38;5;124m\"\u001b[39m]:\n\u001b[1;32m    611\u001b[0m         \u001b[38;5;28;01mraise\u001b[39;00m \u001b[38;5;167;01mValueError\u001b[39;00m(\n\u001b[1;32m    612\u001b[0m             \u001b[38;5;124mf\u001b[39m\u001b[38;5;124m\"\u001b[39m\u001b[38;5;124mThis \u001b[39m\u001b[38;5;132;01m{\u001b[39;00m\u001b[38;5;28mself\u001b[39m\u001b[38;5;241m.\u001b[39m\u001b[38;5;18m__class__\u001b[39m\u001b[38;5;241m.\u001b[39m\u001b[38;5;18m__name__\u001b[39m\u001b[38;5;132;01m}\u001b[39;00m\u001b[38;5;124m estimator \u001b[39m\u001b[38;5;124m\"\u001b[39m\n\u001b[1;32m    613\u001b[0m             \u001b[38;5;124m\"\u001b[39m\u001b[38;5;124mrequires y to be passed, but the target y is None.\u001b[39m\u001b[38;5;124m\"\u001b[39m\n\u001b[1;32m    614\u001b[0m         )\n",
      "File \u001b[0;32m/opt/anaconda3/lib/python3.12/site-packages/sklearn/base.py:535\u001b[0m, in \u001b[0;36mBaseEstimator._check_feature_names\u001b[0;34m(self, X, reset)\u001b[0m\n\u001b[1;32m    530\u001b[0m \u001b[38;5;28;01mif\u001b[39;00m \u001b[38;5;129;01mnot\u001b[39;00m missing_names \u001b[38;5;129;01mand\u001b[39;00m \u001b[38;5;129;01mnot\u001b[39;00m unexpected_names:\n\u001b[1;32m    531\u001b[0m     message \u001b[38;5;241m+\u001b[39m\u001b[38;5;241m=\u001b[39m (\n\u001b[1;32m    532\u001b[0m         \u001b[38;5;124m\"\u001b[39m\u001b[38;5;124mFeature names must be in the same order as they were in fit.\u001b[39m\u001b[38;5;130;01m\\n\u001b[39;00m\u001b[38;5;124m\"\u001b[39m\n\u001b[1;32m    533\u001b[0m     )\n\u001b[0;32m--> 535\u001b[0m \u001b[38;5;28;01mraise\u001b[39;00m \u001b[38;5;167;01mValueError\u001b[39;00m(message)\n",
      "\u001b[0;31mValueError\u001b[0m: The feature names should match those that were passed during fit.\nFeature names unseen at fit time:\n- month\n- n_unique_products\n- promo_bin_1\n- promo_bin_2\n- store_size\n- ...\n"
     ]
    }
   ],
   "source": [
    "lr_stock_price = LinearRegression()\n",
    "lr_stock_price.fit(X_train[[\"stock\", \"price\"]], y_train)\n",
    "y_pred_lr_stock_price = lr_stock_price.predict(X_test)\n",
    "print(\"Linear Regression STOCK, PRICE variables\\n\")\n",
    "print(f\"MAE LinearRegression: {mean_absolute_error(y_test, y_pred_lr_stock_price):.2f}\")\n",
    "print(f\"MAPE LinearRegression: {mean_absolute_percentage_error(y_test, y_pred_lr_stock_price):.2f}\")\n",
    "print(f\"\"\"LR with exogenous variables[\"stock\", \"price\"] showed a low MAE: {mean_absolute_error(y_test, y_pred_lr_stock_price):.2f} we can conclude that suggests that some of your exogenous variables (like stock, price, etc.) are indeed predictive of sales.\"\"\")"
   ]
  },
  {
   "cell_type": "code",
   "execution_count": null,
   "id": "b7705aa0-f208-48e6-9a71-aa3d3ced4419",
   "metadata": {},
   "outputs": [],
   "source": [
    "# Visualizations of Exogenous Feature Importance\n",
    "importance = pd.Series(lr_stock_price.coef_, index=[\"stock\", \"price\"])\n",
    "importance.plot(kind=\"barh\")\n",
    "plt.ylabel(\"Coefficient Value\")\n",
    "plt.title(\"Linear Regression Coefficients\")\n",
    "plt.show()"
   ]
  },
  {
   "cell_type": "code",
   "execution_count": null,
   "id": "84cf42d6-63c9-4024-8e58-11cd0d1ac7a6",
   "metadata": {},
   "outputs": [],
   "source": [
    "print(\"Interpretation of the Linear Regression Coeficients\\n\")\n",
    "print(\"Price - One unit increase in price the sales are predicted to decrease by ~140 units, while stock remains constant\")\n",
    "print(\"Stock - One unit increase in stock the sales are predicted to increase by ~100 units, while price remains constant\")"
   ]
  },
  {
   "cell_type": "markdown",
   "id": "4777a4f5-552f-4bbe-85ea-78ca67ef961a",
   "metadata": {},
   "source": [
    "### ARIMA Results"
   ]
  },
  {
   "cell_type": "code",
   "execution_count": null,
   "id": "b672a01b-1538-4bec-9bef-e991287b672a",
   "metadata": {
    "scrolled": true
   },
   "outputs": [],
   "source": [
    "# Compile results\n",
    "results = [\n",
    "    {\n",
    "        \"Model\": \"ARIMA\",\n",
    "        \"Exogs Used\": \"None\",\n",
    "        \"MAE\": mae_arima,\n",
    "        \"MAPE\": mape_arima,\n",
    "        \"AIC\": model_arima.aic(),\n",
    "        \"BIC\": model_arima.bic()\n",
    "    },\n",
    "    {\n",
    "        \"Model\": \"ARIMAX\",\n",
    "        \"Exogs Used\": \"Stock\",\n",
    "        \"MAE\": mae_arimax_stock,\n",
    "        \"MAPE\": mape_arimax_stock,\n",
    "        \"AIC\": model_arimax_stock.aic(),\n",
    "        \"BIC\": model_arimax_stock.bic()\n",
    "    },\n",
    "    {\n",
    "        \"Model\": \"ARIMAX\",\n",
    "        \"Exogs Used\": \"Stock + Price\",\n",
    "        \"MAE\": mae_arimax_stock_price,\n",
    "        \"MAPE\": mape_arimax_stock_price,\n",
    "        \"AIC\": model_arimax_stock_price.aic(),\n",
    "        \"BIC\": model_arimax_stock_price.bic()\n",
    "    },\n",
    "    {\n",
    "        \"Model\": \"ARIMAX\",\n",
    "        \"Exogs Used\": \"Top 5 Features\",\n",
    "        \"MAE\": mae_arimax_topfeatures,\n",
    "        \"MAPE\": mape_arimax_topfeatures,\n",
    "        \"AIC\": model_arimax_topfeatures.aic(),\n",
    "        \"BIC\": model_arimax_topfeatures.bic()\n",
    "    },\n",
    "    {\n",
    "        \"Model\": \"ARIMAX\",\n",
    "        \"Exogs Used\": \"All Features\",\n",
    "        \"MAE\": mae_arimax,\n",
    "        \"MAPE\": mape_arimax,\n",
    "        \"AIC\": model_arimax.aic(),\n",
    "        \"BIC\": model_arimax.bic()\n",
    "    },\n",
    "    {\n",
    "        \"Model\": \"LinearReg\",\n",
    "        \"Exogs Used\": \"Stock + Price\",\n",
    "        \"MAE\": mean_absolute_error(y_test, y_pred_lr_stock_price),\n",
    "        \"MAPE\": mean_absolute_percentage_error(y_test, y_pred_lr_stock_price),\n",
    "        \"AIC\": \"—\",\n",
    "        \"BIC\": \"—\"\n",
    "    }\n",
    "]\n",
    "\n",
    "# Create DataFrame\n",
    "results_df = pd.DataFrame(results)\n",
    "#print(results_df.to_markdown(index=False))\n",
    "results_df"
   ]
  },
  {
   "cell_type": "markdown",
   "id": "7a4d53c9-3170-4f2c-811b-2bb7504d7027",
   "metadata": {
    "jp-MarkdownHeadingCollapsed": true
   },
   "source": [
    "#### Time-Series Cross-Validation"
   ]
  },
  {
   "attachments": {
    "74e9ca9c-c652-44e6-8d9d-e230b5043efd.png": {
     "image/png": "[encoded data removed]"
    }
   },
   "cell_type": "markdown",
   "id": "fd876d32-02e0-411a-8a85-75143c2b4546",
   "metadata": {},
   "source": [
    "![output.png](attachment:74e9ca9c-c652-44e6-8d9d-e230b5043efd.png)"
   ]
  },
  {
   "cell_type": "markdown",
   "id": "6c463d63-bb60-4e38-ba0b-5fbac0df78b1",
   "metadata": {},
   "source": [
    "Each row represents one fold (Fold 1 to Fold 5)\n",
    "\n",
    "Blue bars: training data used in that fold\n",
    "\n",
    "Orange bars: test data used in that fold\n",
    "\n",
    "The training window grows with each fold (this is an expanding window strategy)\n",
    "\n",
    "Even though the X-axis is numeric (0–29), each point corresponds to a specific week in the week column."
   ]
  },
  {
   "cell_type": "code",
   "execution_count": null,
   "id": "581a8868-3620-4bd5-a91a-9906e87553f6",
   "metadata": {},
   "outputs": [],
   "source": [
    "tscv = TimeSeriesSplit(n_splits=5)"
   ]
  },
  {
   "cell_type": "code",
   "execution_count": null,
   "id": "2c4bb314-c29a-4b09-9b09-ce81aa6fc792",
   "metadata": {},
   "outputs": [],
   "source": [
    "for train_idx, test_idx in tscv.split(df_isna_filtered_week):\n",
    "    train_tscv = df_isna_filtered_week.iloc[train_idx]\n",
    "    test_tscv = df_isna_filtered_week.iloc[test_idx]\n",
    "\n",
    "train_tscv.shape#.head()"
   ]
  },
  {
   "cell_type": "code",
   "execution_count": null,
   "id": "e5dea6cf-d9cf-431b-928b-fc13a7623ff2",
   "metadata": {},
   "outputs": [],
   "source": [
    "#Rest of the model with fit"
   ]
  },
  {
   "cell_type": "markdown",
   "id": "c4e39fda-b611-4f88-8a0f-1da551ca4945",
   "metadata": {
    "jp-MarkdownHeadingCollapsed": true
   },
   "source": [
    "## Drafts"
   ]
  },
  {
   "cell_type": "markdown",
   "id": "96e856cc-213f-4d82-aff0-db4617a4529c",
   "metadata": {},
   "source": [
    "#### filtered_df (Stores by product)"
   ]
  },
  {
   "cell_type": "code",
   "execution_count": null,
   "id": "eccd17f1-3df3-4e4a-9aca-68644831a78d",
   "metadata": {
    "scrolled": true
   },
   "outputs": [],
   "source": [
    "stores = ['S0085', 'S0095', 'S0080', 'S0026']\n",
    "\n",
    "filtered_df = df_isna[df_isna[\"store_id\"].isin(stores) & (df_isna[\"product_id\"] == \"P0015\")]\n",
    "filtered_df"
   ]
  },
  {
   "cell_type": "code",
   "execution_count": null,
   "id": "f0cd331c-87ef-4ce4-a2e8-362ca962d3e1",
   "metadata": {},
   "outputs": [],
   "source": [
    "price_comparison = filtered_df[[\"week\", \"store_id\", \"product_id\", \"price\"]].drop_duplicates().set_index(\"week\")\n",
    "price_comparison.groupby(\"store_id\")[\"price\"].mean().plot(kind=\"bar\");\n",
    "plt.title(\"Price of P0015 Across Stores\")\n",
    "plt.ylabel(\"Price\")\n",
    "plt.show()"
   ]
  },
  {
   "cell_type": "code",
   "execution_count": null,
   "id": "1232e045-4906-4017-b5c1-f920541f4220",
   "metadata": {},
   "outputs": [],
   "source": [
    "sns.lineplot(data=filtered_df, x=\"week\", y=\"price\", hue=\"store_id\", marker=\"o\", ci=None)\n",
    "plt.title(f'Weekly Price Trends')\n",
    "plt.xlabel('Week')\n",
    "plt.ylabel('Price')\n",
    "plt.xticks(rotation=45)\n",
    "plt.grid(True)\n",
    "plt.tight_layout()\n",
    "plt.show()\n"
   ]
  },
  {
   "cell_type": "code",
   "execution_count": null,
   "id": "276eee98-d015-4528-9ca7-d378d1123b20",
   "metadata": {},
   "outputs": [],
   "source": [
    "filtered_df[[\"week\", \"store_id\", \"product_id\", \"price\"]].drop_duplicates().set_index(\"week\")"
   ]
  },
  {
   "cell_type": "code",
   "execution_count": null,
   "id": "2e7089a1-2c44-43c9-8b59-f3ec850769e3",
   "metadata": {},
   "outputs": [],
   "source": [
    "import plotly.express as px\n",
    "\n",
    "fig = px.line(\n",
    "    filtered_df,\n",
    "    x='week',\n",
    "    y='price',\n",
    "    color='store_id',\n",
    "    title=f'Price Trends',\n",
    "    labels={'price': 'Price ($)', 'date': 'Date'},\n",
    "    hover_data=['store_id', 'product_id']\n",
    ")\n",
    "fig.update_xaxes(rangeslider_visible=True)\n",
    "fig.show()"
   ]
  },
  {
   "cell_type": "code",
   "execution_count": null,
   "id": "9fe18cd2-aa61-483b-8c29-00610670d53a",
   "metadata": {},
   "outputs": [],
   "source": [
    "## just continue with the full data ARIMA model"
   ]
  },
  {
   "cell_type": "markdown",
   "id": "65071524-2a7d-48c8-8b30-7030ed7784c1",
   "metadata": {},
   "source": [
    "## ARIMA "
   ]
  },
  {
   "cell_type": "markdown",
   "id": "17a1087e-3489-4aa6-b04c-84810f6bc663",
   "metadata": {
    "jp-MarkdownHeadingCollapsed": true
   },
   "source": [
    "### Train-Test Split"
   ]
  },
  {
   "cell_type": "code",
   "execution_count": null,
   "id": "74cc4280-d969-46b7-848b-20bd904906da",
   "metadata": {
    "scrolled": true
   },
   "outputs": [],
   "source": [
    "train_data = df_h00_model.iloc[:-4]\n",
    "test_data = df_h00_model.iloc[-4:]\n",
    "\n",
    "print(len(train_data))\n",
    "print(len(test_data))\n",
    "print(train_data.index.max()) # last week of training data\n",
    "print(test_data.index.min()) # first week of test data"
   ]
  },
  {
   "cell_type": "markdown",
   "id": "7b6b705a-3764-473a-8acc-d2d197bb2e01",
   "metadata": {},
   "source": [
    "### ARIMA - XREG / ARIMAX"
   ]
  },
  {
   "cell_type": "markdown",
   "id": "44797612-2fe7-443f-8c42-f7e6c58e7036",
   "metadata": {},
   "source": [
    "#### Fit Arima Model"
   ]
  },
  {
   "cell_type": "code",
   "execution_count": null,
   "id": "d8066bbc-477c-427d-a0be-de5e8db17d99",
   "metadata": {
    "scrolled": true
   },
   "outputs": [],
   "source": [
    "# Define target and exogenous variables\n",
    "y_train = train_data[\"sales\"]\n",
    "y_test = test_data[\"sales\"]\n",
    "\n",
    "model_arima = auto_arima(\n",
    "    y_train, # Train target variable\n",
    "    seasonal=True, # Seasonal Set true because data shows weekly seasonality\n",
    "    m=52, # The period for seasonal differencing \"52 weeks\"\n",
    "    stepwise=False, # <- Disable shortcut search\n",
    "    trace=True, #print status on the fits\n",
    "    error_action=\"ignore\", # Ignores errors\n",
    "    max_p=3, max_q=3, max_P=2, max_Q=2,  # Expand search grid\n",
    "    d=None, D=None  # Let it infer order of differencing\n",
    ")\n",
    "\n",
    "# Summary\n",
    "## There's no need to use fit() because Auto-Arima already does it\n",
    "model_arima.summary()"
   ]
  },
  {
   "cell_type": "markdown",
   "id": "e5d7a01c-5e02-4855-8799-d12b9e14abe5",
   "metadata": {},
   "source": [
    "#### Fit ARIMAX Model - Training Data"
   ]
  },
  {
   "cell_type": "code",
   "execution_count": null,
   "id": "32e4b4c1-c5c3-42f9-94fc-aab10935cee3",
   "metadata": {},
   "outputs": [],
   "source": [
    "# Creation of exogenous columns\n",
    "\n",
    "exog_cols = [\"stock\",\n",
    "             \"promo_bin_1\", \n",
    "             \"promo_bin_2\",\n",
    "             \"price\",\n",
    "             \"n_unique_products\",\n",
    "             \"store_size\",\n",
    "             \"week_number\",\n",
    "            \"month\",\n",
    "             \"year\"\n",
    "            ]\n",
    "\n",
    "# Define target and exogenous variables\n",
    "y_train = train_data[\"sales\"]\n",
    "y_test = test_data[\"sales\"]\n",
    "\n",
    "\n",
    "X_train = train_data[exog_cols]\n",
    "X_test = test_data[exog_cols]\n",
    "\n",
    "# Ensure all exogenous variables are float or int (no UInt32, no objects)\n",
    "X_train = X_train.astype(\"float64\")\n",
    "X_test = X_test.astype(\"float64\")\n",
    "\n",
    "model_arimax = auto_arima(\n",
    "    y=y_train, # Train target variable\n",
    "    exogenous = X_train, # exo variables to insert in the model \n",
    "    seasonal=True, # Seasonal Set true because data shows weekly seasonality\n",
    "    m=52, # The period for seasonal differencing \"52 weeks\"\n",
    "    stepwise=False, # <- Disable shortcut search\n",
    "    trace=True, #print status on the fits\n",
    "    error_action=\"ignore\", # Ignores errors\n",
    "    max_p=3, max_q=3, max_P=2, max_Q=2,  # Expand search grid\n",
    "    d=None, D=None  # Let it infer order of differencing\n",
    ")\n",
    "\n",
    "# Summary\n",
    "model_arimax.summary()"
   ]
  },
  {
   "cell_type": "markdown",
   "id": "f7b23bbf-1643-4145-ace6-71375acdd1d4",
   "metadata": {
    "jp-MarkdownHeadingCollapsed": true
   },
   "source": [
    "#### Forecasting & Plot Forecast vs Actual"
   ]
  },
  {
   "cell_type": "code",
   "execution_count": null,
   "id": "69642fa2-6462-4b09-8798-ffaa135d049e",
   "metadata": {
    "scrolled": true
   },
   "outputs": [],
   "source": [
    "#Forecast the same number of steps as test set\n",
    "n_periods_arimax = len(y_test) # 4 weeks\n",
    "forecast_arimax, conf_int_arimax = model_arimax.predict(\n",
    "    n_periods=n_periods_arimax,\n",
    "    exogenous=X_test,\n",
    "    return_conf_int=True\n",
    ")\n",
    "\n",
    "# Plot Forecast vs Actuals\n",
    "plt.figure(figsize=(10, 4))\n",
    "plt.plot(y_train.index, y_train, label=\"Train\")\n",
    "plt.plot(y_test.index, y_test, label=\"Actuals\")\n",
    "plt.plot(y_test.index, forecast_arimax, label=\"Forecast AutoArimax\")  # <-- esta linha dava erro antes\n",
    "plt.fill_between(y_test.index, conf_int_arimax[:, 0], conf_int_arimax[:, 1], color=\"lightblue\", alpha=0.4)\n",
    "plt.title(\"Auto-ARIMAX Forecast vs Actual\")\n",
    "plt.legend()\n",
    "plt.show()"
   ]
  },
  {
   "cell_type": "markdown",
   "id": "8b3c1a95-9eee-43a8-a984-879ccf5b9c49",
   "metadata": {},
   "source": [
    "#### Performance"
   ]
  },
  {
   "cell_type": "code",
   "execution_count": null,
   "id": "1c6b25f6-fec7-470c-9fce-928a03684a1f",
   "metadata": {
    "scrolled": true
   },
   "outputs": [],
   "source": [
    "actual_values = y_test\n",
    "\n",
    "mae_arimax = mean_absolute_error(actual_values, forecast_arimax)\n",
    "mape_arimax = mean_absolute_percentage_error(actual_values, forecast_arimax)\n",
    "\n",
    "\n",
    "print(f\"MAE_AutoARIMAX: {mae_arimax:.2f}\") # On average the model is off by...\n",
    "print(f\"MAPE_AutoARIMAX: {mape_arimax:.2f}\") #On percentage how far the model is\n",
    "print(f\"AIC_AutoARIMAX: {model_arimax.aic():.2f}\") # A measure of model to compare models\n",
    "print(f\"BIC_AutoARIMAX: {model_arimax.bic():.2f}\") # same as above"
   ]
  },
  {
   "cell_type": "markdown",
   "id": "7578bbb0-388b-4c75-b597-61cbf9a8a79d",
   "metadata": {},
   "source": [
    "### ARIMA"
   ]
  },
  {
   "cell_type": "markdown",
   "id": "8e0e550f-2765-4b13-867b-86f25db6ede2",
   "metadata": {},
   "source": [
    "| Strength                                      | Why it matters for inventory                                                                                   |\n",
    "| --------------------------------------------- | -------------------------------------------------------------------------------------------------------------- |\n",
    "| 📉 **Short-term accuracy**                    | ARIMA excels at capturing local patterns like last few weeks’ sales — critical for weekly inventory decisions. |\n",
    "| 🧮 **Interpretable**                          | Easy to understand and control: “Use last 2 weeks, difference once, correct with recent error.”                |\n",
    "| 🔁 **Well-tested for univariate time series** | Forecasting **one variable** (sales per product/store) is ARIMA’s wheelhouse.                                  |\n"
   ]
  },
  {
   "cell_type": "markdown",
   "id": "d0725e8c-5af2-4052-b6ee-101d1e2bdb3e",
   "metadata": {},
   "source": [
    "#### Forecasting & Plot Forecast vs Actual"
   ]
  },
  {
   "cell_type": "code",
   "execution_count": null,
   "id": "2dd29340-25dc-456b-8042-b1ca70cdd940",
   "metadata": {},
   "outputs": [],
   "source": [
    "#Forecast the same number of steps as test set\n",
    "n_periods_arima = len(y_test) # 4 weeks\n",
    "forecast_arima = model_arima.predict(n_periods=n_periods_arima)\n",
    "\n",
    "# Plot Forecast vs Actuals\n",
    "plt.figure(figsize=(10, 4))\n",
    "plt.plot(y_train.index, y_train, label=\"Train\")\n",
    "plt.plot(y_test.index, y_test, label=\"Actuals\")\n",
    "plt.plot(y_test.index, forecast_arima, label=\"Forecast_AutoArima\")\n",
    "plt.title(\"Auto ARIMA Forecast vs Actual\")\n",
    "plt.legend()\n",
    "plt.show()"
   ]
  },
  {
   "cell_type": "markdown",
   "id": "0a0c8d25-265f-44da-8379-7369ac03f980",
   "metadata": {},
   "source": [
    "#### Performance"
   ]
  },
  {
   "cell_type": "code",
   "execution_count": null,
   "id": "292b5eb1-1d1a-4db6-959e-ce3e7eba502b",
   "metadata": {},
   "outputs": [],
   "source": [
    "actual_values = y_test\n",
    "\n",
    "mae_arima = mean_absolute_error(actual_values, forecast_arima)\n",
    "mape_arima = mean_absolute_percentage_error(actual_values, forecast_arima)\n",
    "\n",
    "\n",
    "print(f\"MAE_AutoARIMA: {mae_arima:.2f}\") # On average the model is off by...\n",
    "print(f\"MAPE_AutoARIMA: {mape_arima:.2f}\") #On percentage how far the model is\n",
    "print(f\"AIC_AutoARIMA: {model_arima.aic():.2f}\") # A measure of model to compare models\n",
    "print(f\"BIC_AutoARIMA: {model_arima.bic():.2f}\") # same as above"
   ]
  },
  {
   "cell_type": "code",
   "execution_count": null,
   "id": "c54ecd55-e78d-4ae8-88a4-81a0601f57ab",
   "metadata": {},
   "outputs": [],
   "source": [
    "#Check if forecasts are different\n",
    "print(np.allclose(forecast_arimax, forecast_arima))\n",
    "\n",
    "# Output = True, it means that the model is ignoring the exogenous"
   ]
  },
  {
   "cell_type": "code",
   "execution_count": null,
   "id": "e9163018-563e-423f-8a34-9711c54a1642",
   "metadata": {
    "scrolled": true
   },
   "outputs": [],
   "source": [
    "# Checking correlations:\n",
    "df_h00_model.corr()[\"sales\"].sort_values(ascending=False)\n",
    "## Correlation values shows that stock is positively correlated with sales- (stockouts hurt performance\n",
    "## Price, store_size and time variables are negatively correlated\n",
    "## Promotions have low to moderate negative correlations - maybe because of they are binary and sporadic"
   ]
  },
  {
   "cell_type": "markdown",
   "id": "a2ace88f-eb7e-4731-9aae-adedc10ade21",
   "metadata": {},
   "source": [
    "Let's test our ARIMAX model with other features!!!"
   ]
  },
  {
   "cell_type": "markdown",
   "id": "e1002250-2981-4cbe-93ed-3e9b9632c343",
   "metadata": {
    "jp-MarkdownHeadingCollapsed": true
   },
   "source": [
    "### Auto-ARIMA[\"stock\"]"
   ]
  },
  {
   "cell_type": "code",
   "execution_count": null,
   "id": "2c514f6e-57d2-4f57-8776-71509d5d38f7",
   "metadata": {
    "scrolled": true
   },
   "outputs": [],
   "source": [
    "model_arimax_stock = auto_arima(\n",
    "    y_train,\n",
    "    exogenous=X_train[\"stock\"],\n",
    "    seasonal=False,\n",
    "    stepwise=True,\n",
    "    trace=True\n",
    ")\n",
    "forecast_arimax_stock = model_arimax_stock.predict(\n",
    "    n_periods=len(y_test),\n",
    "    exogenous=X_test[\"stock\"]\n",
    ")"
   ]
  },
  {
   "cell_type": "code",
   "execution_count": null,
   "id": "b7dcb3de-274f-46bd-918b-1b6f53a941c0",
   "metadata": {},
   "outputs": [],
   "source": [
    "mae_arimax_stock = mean_absolute_error(y_test, forecast_arimax_stock)\n",
    "mape_arimax_stock = mean_absolute_percentage_error(y_test, forecast_arimax_stock)\n",
    "\n",
    "\n",
    "print(f\"MAE_AutoARIMAX_stock: {mae_arimax_stock:.2f}\") # On average the model is off by...\n",
    "print(f\"MAPE_AutoARIMAX_stock: {mape_arimax_stock:.2f}\") #On percentage how far the model is\n",
    "print(f\"AIC_AutoARIMAX_stock: {model_arimax_stock.aic():.2f}\") # A measure of model to compare models\n",
    "print(f\"BIC_AutoARIMAX_stock: {model_arimax_stock.bic():.2f}\") # same as above"
   ]
  },
  {
   "cell_type": "code",
   "execution_count": null,
   "id": "f1d4f9c4-21bd-4345-a16d-8700b2a29220",
   "metadata": {},
   "outputs": [],
   "source": []
  },
  {
   "cell_type": "markdown",
   "id": "ed683f9f-6c31-444a-bc53-656378e3098f",
   "metadata": {},
   "source": [
    "### Auto-ARIMA[\"stock\", \"price\"]"
   ]
  },
  {
   "cell_type": "code",
   "execution_count": null,
   "id": "83e421a1-5435-44d9-b5b6-117eea2cdfc8",
   "metadata": {
    "scrolled": true
   },
   "outputs": [],
   "source": [
    "model_arimax_stock_price = auto_arima(\n",
    "    y_train,\n",
    "    exogenous=X_train[[\"stock\", \"price\"]],\n",
    "    seasonal=False,\n",
    "    stepwise=True,\n",
    "    trace=True\n",
    ")\n",
    "forecast_arimax_stock_price = model_arimax_stock_price.predict(\n",
    "    n_periods=len(y_test),\n",
    "    exogenous=X_test[[\"stock\", \"price\"]]\n",
    ")"
   ]
  },
  {
   "cell_type": "code",
   "execution_count": null,
   "id": "1d01be11-70cb-41ce-8e20-574ea3a519fe",
   "metadata": {
    "scrolled": true
   },
   "outputs": [],
   "source": [
    "mae_arimax_stock_price = mean_absolute_error(y_test, forecast_arimax_stock_price)\n",
    "mape_arimax_stock_price = mean_absolute_percentage_error(y_test, forecast_arimax_stock_price)\n",
    "\n",
    "\n",
    "print(f\"MAE_AutoARIMAX_stock_price: {mae_arimax_stock_price:.2f}\") # On average the model is off by...\n",
    "print(f\"MAPE_AutoARIMAX_stock_price: {mape_arimax_stock_price:.2f}\") #On percentage how far the model is\n",
    "print(f\"AIC_AutoARIMAX_stock_price: {model_arimax_stock_price.aic():.2f}\") # A measure of model to compare models\n",
    "print(f\"BIC_AutoARIMAX_stock_price: {model_arimax_stock_price.bic():.2f}\") # same as above"
   ]
  },
  {
   "cell_type": "markdown",
   "id": "d3b56ffc-dbd4-4e61-aa5c-dfcd32a3c385",
   "metadata": {
    "jp-MarkdownHeadingCollapsed": true
   },
   "source": [
    "### Auto-ARIMA-TopFeatures"
   ]
  },
  {
   "cell_type": "code",
   "execution_count": null,
   "id": "c5c135d3-f0f6-4843-bd0b-e270c59f95af",
   "metadata": {},
   "outputs": [],
   "source": [
    "model_arimax_topfeatures = auto_arima(\n",
    "    y_train,\n",
    "    exogenous=X_train[[\"stock\", \"price\", \"store_size\", \"year\", \"n_unique_products\"]],\n",
    "    seasonal=False,\n",
    "    stepwise=True,\n",
    "    trace=True\n",
    ")\n",
    "forecast_arimax_topfeatures = model_arimax_topfeatures.predict(\n",
    "    n_periods=len(y_test),\n",
    "    exogenous=X_test[[\"stock\", \"price\", \"store_size\", \"year\", \"n_unique_products\"]]\n",
    ")"
   ]
  },
  {
   "cell_type": "code",
   "execution_count": null,
   "id": "08847ce9-88b7-486c-b668-07a7eb8c9233",
   "metadata": {},
   "outputs": [],
   "source": [
    "mae_arimax_topfeatures = mean_absolute_error(y_test, forecast_arimax_topfeatures)\n",
    "mape_arimax_topfeatures = mean_absolute_percentage_error(y_test, forecast_arimax_topfeatures)\n",
    "\n",
    "\n",
    "print(f\"MAE_AutoARIMAX_topfeatures: {mae_arimax_topfeatures:.2f}\") # On average the model is off by...\n",
    "print(f\"MAPE_AutoARIMAX_topfeatures: {mape_arimax_topfeatures:.2f}\") #On percentage how far the model is\n",
    "print(f\"AIC_AutoARIMAX_topfeatures: {model_arimax_topfeatures.aic():.2f}\") # A measure of model to compare models\n",
    "print(f\"BIC_AutoARIMAX_topfeatures: {model_arimax_topfeatures.bic():.2f}\") # same as above"
   ]
  },
  {
   "cell_type": "code",
   "execution_count": null,
   "id": "6c5e93b7-4bb1-4368-be90-b91dbe766974",
   "metadata": {},
   "outputs": [],
   "source": []
  },
  {
   "cell_type": "code",
   "execution_count": null,
   "id": "5963ec0d-e163-4f29-bcb7-118b89cf319f",
   "metadata": {},
   "outputs": [],
   "source": []
  },
  {
   "cell_type": "markdown",
   "id": "a8f378e5-18ad-40bd-9931-58b6f0ec0c17",
   "metadata": {},
   "source": [
    "### Linear Regression"
   ]
  },
  {
   "cell_type": "code",
   "execution_count": null,
   "id": "ade5de83-7607-418d-bfcd-b28168e8f372",
   "metadata": {},
   "outputs": [],
   "source": [
    "lr_stock_price = LinearRegression()\n",
    "lr_stock_price.fit(X_train[[\"stock\", \"price\"]], y_train)\n",
    "y_pred_lr_stock_price = lr_stock_price.predict(X_test)\n",
    "print(\"Linear Regression STOCK, PRICE variables\\n\")\n",
    "print(f\"MAE LinearRegression: {mean_absolute_error(y_test, y_pred_lr_stock_price):.2f}\")\n",
    "print(f\"MAPE LinearRegression: {mean_absolute_percentage_error(y_test, y_pred_lr_stock_price):.2f}\")\n",
    "print(f\"\"\"LR with exogenous variables[\"stock\", \"price\"] showed a low MAE: {mean_absolute_error(y_test, y_pred_lr_stock_price):.2f} we can conclude that suggests that some of your exogenous variables (like stock, price, etc.) are indeed predictive of sales.\"\"\")"
   ]
  },
  {
   "cell_type": "code",
   "execution_count": null,
   "id": "7e6860b8-25e6-4ca3-8867-ddb1a6906c08",
   "metadata": {},
   "outputs": [],
   "source": [
    "# Visualizations of Exogenous Feature Importance\n",
    "importance = pd.Series(lr_stock_price.coef_, index=[\"stock\", \"price\"])\n",
    "importance.plot(kind=\"barh\")\n",
    "plt.ylabel(\"Coefficient Value\")\n",
    "plt.title(\"Linear Regression Coefficients\")\n",
    "plt.show()"
   ]
  },
  {
   "cell_type": "code",
   "execution_count": null,
   "id": "b09e80be-7b5c-4f50-9531-f6e77b31ac73",
   "metadata": {},
   "outputs": [],
   "source": [
    "print(\"Interpretation of the Linear Regression Coeficients\\n\")\n",
    "print(\"Price - One unit increase in price the sales are predicted to decrease by ~140 units, while stock remains constant\")\n",
    "print(\"Stock - One unit increase in stock the sales are predicted to increase by ~100 units, while price remains constant\")"
   ]
  },
  {
   "cell_type": "code",
   "execution_count": null,
   "id": "f29a5ad5-06f2-47ae-9e22-cb1ddd612042",
   "metadata": {
    "jupyter": {
     "source_hidden": true
    }
   },
   "outputs": [],
   "source": [
    "# Compile results\n",
    "results = [\n",
    "    {\n",
    "        \"Model\": \"ARIMA\",\n",
    "        \"Exogs Used\": \"None\",\n",
    "        \"MAE\": mae_arima,\n",
    "        \"MAPE\": mape_arima,\n",
    "        \"AIC\": model_arima.aic(),\n",
    "        \"BIC\": model_arima.bic()\n",
    "    },\n",
    "    {\n",
    "        \"Model\": \"ARIMAX\",\n",
    "        \"Exogs Used\": \"Stock\",\n",
    "        \"MAE\": mae_arimax_stock,\n",
    "        \"MAPE\": mape_arimax_stock,\n",
    "        \"AIC\": model_arimax_stock.aic(),\n",
    "        \"BIC\": model_arimax_stock.bic()\n",
    "    },\n",
    "    {\n",
    "        \"Model\": \"ARIMAX\",\n",
    "        \"Exogs Used\": \"Stock + Price\",\n",
    "        \"MAE\": mae_arimax_stock_price,\n",
    "        \"MAPE\": mape_arimax_stock_price,\n",
    "        \"AIC\": model_arimax_stock_price.aic(),\n",
    "        \"BIC\": model_arimax_stock_price.bic()\n",
    "    },\n",
    "    {\n",
    "        \"Model\": \"ARIMAX\",\n",
    "        \"Exogs Used\": \"Top 5 Features\",\n",
    "        \"MAE\": mae_arimax_topfeatures,\n",
    "        \"MAPE\": mape_arimax_topfeatures,\n",
    "        \"AIC\": model_arimax_topfeatures.aic(),\n",
    "        \"BIC\": model_arimax_topfeatures.bic()\n",
    "    },\n",
    "    {\n",
    "        \"Model\": \"ARIMAX\",\n",
    "        \"Exogs Used\": \"All Features\",\n",
    "        \"MAE\": mae_arimax,\n",
    "        \"MAPE\": mape_arimax,\n",
    "        \"AIC\": model_arimax.aic(),\n",
    "        \"BIC\": model_arimax.bic()\n",
    "    },\n",
    "    {\n",
    "        \"Model\": \"LinearReg\",\n",
    "        \"Exogs Used\": \"Stock + Price\",\n",
    "        \"MAE\": mean_absolute_error(y_test, y_pred_lr_stock_price),\n",
    "        \"MAPE\": mean_absolute_percentage_error(y_test, y_pred_lr_stock_price),\n",
    "        \"AIC\": \"—\",\n",
    "        \"BIC\": \"—\"\n",
    "    }\n",
    "]\n",
    "\n",
    "# Create DataFrame\n",
    "results_df = pd.DataFrame(results)\n",
    "#print(results_df.to_markdown(index=False))\n",
    "results_df"
   ]
  }
 ],
 "metadata": {
  "kernelspec": {
   "display_name": "Python 3 (ipykernel)",
   "language": "python",
   "name": "python3"
  },
  "language_info": {
   "codemirror_mode": {
    "name": "ipython",
    "version": 3
   },
   "file_extension": ".py",
   "mimetype": "text/x-python",
   "name": "python",
   "nbconvert_exporter": "python",
   "pygments_lexer": "ipython3",
   "version": "3.12.4"
  }
 },
 "nbformat": 4,
 "nbformat_minor": 5
}
